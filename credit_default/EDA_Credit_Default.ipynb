{
 "cells": [
  {
   "cell_type": "code",
   "execution_count": 1,
   "metadata": {},
   "outputs": [],
   "source": [
    "import pandas as pd\n",
    "import numpy as np \n",
    "from sklearn.model_selection import train_test_split\n",
    "from xgboost import XGBClassifier"
   ]
  },
  {
   "cell_type": "code",
   "execution_count": 2,
   "metadata": {},
   "outputs": [
    {
     "data": {
      "text/html": [
       "<div>\n",
       "<style scoped>\n",
       "    .dataframe tbody tr th:only-of-type {\n",
       "        vertical-align: middle;\n",
       "    }\n",
       "\n",
       "    .dataframe tbody tr th {\n",
       "        vertical-align: top;\n",
       "    }\n",
       "\n",
       "    .dataframe thead th {\n",
       "        text-align: right;\n",
       "    }\n",
       "</style>\n",
       "<table border=\"1\" class=\"dataframe\">\n",
       "  <thead>\n",
       "    <tr style=\"text-align: right;\">\n",
       "      <th></th>\n",
       "      <th>default</th>\n",
       "      <th>account_check_status</th>\n",
       "      <th>duration_in_month</th>\n",
       "      <th>credit_history</th>\n",
       "      <th>purpose</th>\n",
       "      <th>credit_amount</th>\n",
       "      <th>savings</th>\n",
       "      <th>present_emp_since</th>\n",
       "      <th>installment_as_income_perc</th>\n",
       "      <th>personal_status_sex</th>\n",
       "      <th>...</th>\n",
       "      <th>present_res_since</th>\n",
       "      <th>property</th>\n",
       "      <th>age</th>\n",
       "      <th>other_installment_plans</th>\n",
       "      <th>housing</th>\n",
       "      <th>credits_this_bank</th>\n",
       "      <th>job</th>\n",
       "      <th>people_under_maintenance</th>\n",
       "      <th>telephone</th>\n",
       "      <th>foreign_worker</th>\n",
       "    </tr>\n",
       "  </thead>\n",
       "  <tbody>\n",
       "    <tr>\n",
       "      <th>0</th>\n",
       "      <td>0</td>\n",
       "      <td>&lt; 0 DM</td>\n",
       "      <td>6</td>\n",
       "      <td>critical account/ other credits existing (not ...</td>\n",
       "      <td>domestic appliances</td>\n",
       "      <td>1169</td>\n",
       "      <td>unknown/ no savings account</td>\n",
       "      <td>.. &gt;= 7 years</td>\n",
       "      <td>4</td>\n",
       "      <td>male : single</td>\n",
       "      <td>...</td>\n",
       "      <td>4</td>\n",
       "      <td>real estate</td>\n",
       "      <td>67</td>\n",
       "      <td>none</td>\n",
       "      <td>own</td>\n",
       "      <td>2</td>\n",
       "      <td>skilled employee / official</td>\n",
       "      <td>1</td>\n",
       "      <td>yes, registered under the customers name</td>\n",
       "      <td>yes</td>\n",
       "    </tr>\n",
       "    <tr>\n",
       "      <th>1</th>\n",
       "      <td>1</td>\n",
       "      <td>0 &lt;= ... &lt; 200 DM</td>\n",
       "      <td>48</td>\n",
       "      <td>existing credits paid back duly till now</td>\n",
       "      <td>domestic appliances</td>\n",
       "      <td>5951</td>\n",
       "      <td>... &lt; 100 DM</td>\n",
       "      <td>1 &lt;= ... &lt; 4 years</td>\n",
       "      <td>2</td>\n",
       "      <td>female : divorced/separated/married</td>\n",
       "      <td>...</td>\n",
       "      <td>2</td>\n",
       "      <td>real estate</td>\n",
       "      <td>22</td>\n",
       "      <td>none</td>\n",
       "      <td>own</td>\n",
       "      <td>1</td>\n",
       "      <td>skilled employee / official</td>\n",
       "      <td>1</td>\n",
       "      <td>none</td>\n",
       "      <td>yes</td>\n",
       "    </tr>\n",
       "    <tr>\n",
       "      <th>2</th>\n",
       "      <td>0</td>\n",
       "      <td>no checking account</td>\n",
       "      <td>12</td>\n",
       "      <td>critical account/ other credits existing (not ...</td>\n",
       "      <td>(vacation - does not exist?)</td>\n",
       "      <td>2096</td>\n",
       "      <td>... &lt; 100 DM</td>\n",
       "      <td>4 &lt;= ... &lt; 7 years</td>\n",
       "      <td>2</td>\n",
       "      <td>male : single</td>\n",
       "      <td>...</td>\n",
       "      <td>3</td>\n",
       "      <td>real estate</td>\n",
       "      <td>49</td>\n",
       "      <td>none</td>\n",
       "      <td>own</td>\n",
       "      <td>1</td>\n",
       "      <td>unskilled - resident</td>\n",
       "      <td>2</td>\n",
       "      <td>none</td>\n",
       "      <td>yes</td>\n",
       "    </tr>\n",
       "    <tr>\n",
       "      <th>3</th>\n",
       "      <td>0</td>\n",
       "      <td>&lt; 0 DM</td>\n",
       "      <td>42</td>\n",
       "      <td>existing credits paid back duly till now</td>\n",
       "      <td>radio/television</td>\n",
       "      <td>7882</td>\n",
       "      <td>... &lt; 100 DM</td>\n",
       "      <td>4 &lt;= ... &lt; 7 years</td>\n",
       "      <td>2</td>\n",
       "      <td>male : single</td>\n",
       "      <td>...</td>\n",
       "      <td>4</td>\n",
       "      <td>if not A121 : building society savings agreeme...</td>\n",
       "      <td>45</td>\n",
       "      <td>none</td>\n",
       "      <td>for free</td>\n",
       "      <td>1</td>\n",
       "      <td>skilled employee / official</td>\n",
       "      <td>2</td>\n",
       "      <td>none</td>\n",
       "      <td>yes</td>\n",
       "    </tr>\n",
       "    <tr>\n",
       "      <th>4</th>\n",
       "      <td>1</td>\n",
       "      <td>&lt; 0 DM</td>\n",
       "      <td>24</td>\n",
       "      <td>delay in paying off in the past</td>\n",
       "      <td>car (new)</td>\n",
       "      <td>4870</td>\n",
       "      <td>... &lt; 100 DM</td>\n",
       "      <td>1 &lt;= ... &lt; 4 years</td>\n",
       "      <td>3</td>\n",
       "      <td>male : single</td>\n",
       "      <td>...</td>\n",
       "      <td>4</td>\n",
       "      <td>unknown / no property</td>\n",
       "      <td>53</td>\n",
       "      <td>none</td>\n",
       "      <td>for free</td>\n",
       "      <td>2</td>\n",
       "      <td>skilled employee / official</td>\n",
       "      <td>2</td>\n",
       "      <td>none</td>\n",
       "      <td>yes</td>\n",
       "    </tr>\n",
       "  </tbody>\n",
       "</table>\n",
       "<p>5 rows × 21 columns</p>\n",
       "</div>"
      ],
      "text/plain": [
       "   default account_check_status  duration_in_month  \\\n",
       "0        0               < 0 DM                  6   \n",
       "1        1    0 <= ... < 200 DM                 48   \n",
       "2        0  no checking account                 12   \n",
       "3        0               < 0 DM                 42   \n",
       "4        1               < 0 DM                 24   \n",
       "\n",
       "                                      credit_history  \\\n",
       "0  critical account/ other credits existing (not ...   \n",
       "1           existing credits paid back duly till now   \n",
       "2  critical account/ other credits existing (not ...   \n",
       "3           existing credits paid back duly till now   \n",
       "4                    delay in paying off in the past   \n",
       "\n",
       "                        purpose  credit_amount                      savings  \\\n",
       "0           domestic appliances           1169  unknown/ no savings account   \n",
       "1           domestic appliances           5951                 ... < 100 DM   \n",
       "2  (vacation - does not exist?)           2096                 ... < 100 DM   \n",
       "3              radio/television           7882                 ... < 100 DM   \n",
       "4                     car (new)           4870                 ... < 100 DM   \n",
       "\n",
       "    present_emp_since  installment_as_income_perc  \\\n",
       "0       .. >= 7 years                           4   \n",
       "1  1 <= ... < 4 years                           2   \n",
       "2  4 <= ... < 7 years                           2   \n",
       "3  4 <= ... < 7 years                           2   \n",
       "4  1 <= ... < 4 years                           3   \n",
       "\n",
       "                   personal_status_sex  ... present_res_since  \\\n",
       "0                        male : single  ...                 4   \n",
       "1  female : divorced/separated/married  ...                 2   \n",
       "2                        male : single  ...                 3   \n",
       "3                        male : single  ...                 4   \n",
       "4                        male : single  ...                 4   \n",
       "\n",
       "                                            property age  \\\n",
       "0                                        real estate  67   \n",
       "1                                        real estate  22   \n",
       "2                                        real estate  49   \n",
       "3  if not A121 : building society savings agreeme...  45   \n",
       "4                              unknown / no property  53   \n",
       "\n",
       "   other_installment_plans   housing credits_this_bank  \\\n",
       "0                     none       own                 2   \n",
       "1                     none       own                 1   \n",
       "2                     none       own                 1   \n",
       "3                     none  for free                 1   \n",
       "4                     none  for free                 2   \n",
       "\n",
       "                           job people_under_maintenance  \\\n",
       "0  skilled employee / official                        1   \n",
       "1  skilled employee / official                        1   \n",
       "2         unskilled - resident                        2   \n",
       "3  skilled employee / official                        2   \n",
       "4  skilled employee / official                        2   \n",
       "\n",
       "                                   telephone foreign_worker  \n",
       "0  yes, registered under the customers name             yes  \n",
       "1                                       none            yes  \n",
       "2                                       none            yes  \n",
       "3                                       none            yes  \n",
       "4                                       none            yes  \n",
       "\n",
       "[5 rows x 21 columns]"
      ]
     },
     "execution_count": 2,
     "metadata": {},
     "output_type": "execute_result"
    }
   ],
   "source": [
    "df = pd.read_csv(\"credit_data.csv\")\n",
    "df.head()"
   ]
  },
  {
   "cell_type": "code",
   "execution_count": 3,
   "metadata": {},
   "outputs": [
    {
     "name": "stdout",
     "output_type": "stream",
     "text": [
      "<class 'pandas.core.frame.DataFrame'>\n",
      "RangeIndex: 1000 entries, 0 to 999\n",
      "Data columns (total 21 columns):\n",
      " #   Column                      Non-Null Count  Dtype \n",
      "---  ------                      --------------  ----- \n",
      " 0   default                     1000 non-null   int64 \n",
      " 1   account_check_status        1000 non-null   object\n",
      " 2   duration_in_month           1000 non-null   int64 \n",
      " 3   credit_history              1000 non-null   object\n",
      " 4   purpose                     1000 non-null   object\n",
      " 5   credit_amount               1000 non-null   int64 \n",
      " 6   savings                     1000 non-null   object\n",
      " 7   present_emp_since           1000 non-null   object\n",
      " 8   installment_as_income_perc  1000 non-null   int64 \n",
      " 9   personal_status_sex         1000 non-null   object\n",
      " 10  other_debtors               1000 non-null   object\n",
      " 11  present_res_since           1000 non-null   int64 \n",
      " 12  property                    1000 non-null   object\n",
      " 13  age                         1000 non-null   int64 \n",
      " 14  other_installment_plans     1000 non-null   object\n",
      " 15  housing                     1000 non-null   object\n",
      " 16  credits_this_bank           1000 non-null   int64 \n",
      " 17  job                         1000 non-null   object\n",
      " 18  people_under_maintenance    1000 non-null   int64 \n",
      " 19  telephone                   1000 non-null   object\n",
      " 20  foreign_worker              1000 non-null   object\n",
      "dtypes: int64(8), object(13)\n",
      "memory usage: 164.2+ KB\n"
     ]
    }
   ],
   "source": [
    "df.info()"
   ]
  },
  {
   "cell_type": "code",
   "execution_count": 4,
   "metadata": {},
   "outputs": [
    {
     "data": {
      "text/plain": [
       "Index(['account_check_status', 'credit_history', 'purpose', 'savings',\n",
       "       'present_emp_since', 'personal_status_sex', 'other_debtors', 'property',\n",
       "       'other_installment_plans', 'housing', 'job', 'telephone',\n",
       "       'foreign_worker'],\n",
       "      dtype='object')"
      ]
     },
     "execution_count": 4,
     "metadata": {},
     "output_type": "execute_result"
    }
   ],
   "source": [
    "cat_cols = df.select_dtypes(\"O\").columns\n",
    "cat_cols"
   ]
  },
  {
   "cell_type": "code",
   "execution_count": 5,
   "metadata": {},
   "outputs": [],
   "source": [
    "cat_cols1 = cat_cols[:3]\n",
    "cat_cols2 = cat_cols[3:6]\n",
    "cat_cols3 = cat_cols[6:9]\n",
    "cat_cols4 = cat_cols[9:]"
   ]
  },
  {
   "cell_type": "code",
   "execution_count": 6,
   "metadata": {},
   "outputs": [
    {
     "name": "stdout",
     "output_type": "stream",
     "text": [
      "account_check_status\n",
      "no checking account                                   394\n",
      "< 0 DM                                                274\n",
      "0 <= ... < 200 DM                                     269\n",
      ">= 200 DM / salary assignments for at least 1 year     63\n",
      "Name: count, dtype: int64\n",
      "\n",
      "credit_history\n",
      "existing credits paid back duly till now                       530\n",
      "critical account/ other credits existing (not at this bank)    293\n",
      "delay in paying off in the past                                 88\n",
      "all credits at this bank paid back duly                         49\n",
      "no credits taken/ all credits paid back duly                    40\n",
      "Name: count, dtype: int64\n",
      "\n",
      "purpose\n",
      "domestic appliances             280\n",
      "car (new)                       234\n",
      "radio/television                181\n",
      "car (used)                      103\n",
      "business                         97\n",
      "(vacation - does not exist?)     50\n",
      "education                        22\n",
      "repairs                          12\n",
      "furniture/equipment              12\n",
      "retraining                        9\n",
      "Name: count, dtype: int64\n",
      "\n"
     ]
    }
   ],
   "source": [
    "for cat_col in cat_cols1:\n",
    "    print(df[cat_col].value_counts())\n",
    "    print()\n"
   ]
  },
  {
   "cell_type": "code",
   "execution_count": 7,
   "metadata": {},
   "outputs": [
    {
     "name": "stdout",
     "output_type": "stream",
     "text": [
      "savings\n",
      "... < 100 DM                   603\n",
      "unknown/ no savings account    183\n",
      "100 <= ... < 500 DM            103\n",
      "500 <= ... < 1000 DM            63\n",
      ".. >= 1000 DM                   48\n",
      "Name: count, dtype: int64\n",
      "\n",
      "present_emp_since\n",
      "1 <= ... < 4 years    339\n",
      ".. >= 7 years         253\n",
      "4 <= ... < 7 years    174\n",
      "... < 1 year          172\n",
      "unemployed             62\n",
      "Name: count, dtype: int64\n",
      "\n",
      "personal_status_sex\n",
      "male : single                          548\n",
      "female : divorced/separated/married    310\n",
      "male : married/widowed                  92\n",
      "male : divorced/separated               50\n",
      "Name: count, dtype: int64\n",
      "\n"
     ]
    }
   ],
   "source": [
    "for cat_col in cat_cols2:\n",
    "    print(df[cat_col].value_counts())\n",
    "    print()"
   ]
  },
  {
   "cell_type": "code",
   "execution_count": 8,
   "metadata": {},
   "outputs": [
    {
     "name": "stdout",
     "output_type": "stream",
     "text": [
      "other_debtors\n",
      "none            907\n",
      "guarantor        52\n",
      "co-applicant     41\n",
      "Name: count, dtype: int64\n",
      "\n",
      "property\n",
      "if not A121/A122 : car or other, not in attribute 6                 332\n",
      "real estate                                                         282\n",
      "if not A121 : building society savings agreement/ life insurance    232\n",
      "unknown / no property                                               154\n",
      "Name: count, dtype: int64\n",
      "\n",
      "other_installment_plans\n",
      "none      814\n",
      "bank      139\n",
      "stores     47\n",
      "Name: count, dtype: int64\n",
      "\n"
     ]
    }
   ],
   "source": [
    "for cat_col in cat_cols3:\n",
    "    print(df[cat_col].value_counts())\n",
    "    print()"
   ]
  },
  {
   "cell_type": "code",
   "execution_count": 9,
   "metadata": {},
   "outputs": [
    {
     "name": "stdout",
     "output_type": "stream",
     "text": [
      "housing\n",
      "own         713\n",
      "rent        179\n",
      "for free    108\n",
      "Name: count, dtype: int64\n",
      "\n",
      "job\n",
      "skilled employee / official                                      630\n",
      "unskilled - resident                                             200\n",
      "management/ self-employed/ highly qualified employee/ officer    148\n",
      "unemployed/ unskilled - non-resident                              22\n",
      "Name: count, dtype: int64\n",
      "\n",
      "telephone\n",
      "none                                         596\n",
      "yes, registered under the customers name     404\n",
      "Name: count, dtype: int64\n",
      "\n",
      "foreign_worker\n",
      "yes    963\n",
      "no      37\n",
      "Name: count, dtype: int64\n",
      "\n"
     ]
    }
   ],
   "source": [
    "for cat_col in cat_cols4:\n",
    "    print(df[cat_col].value_counts())\n",
    "    print()"
   ]
  },
  {
   "cell_type": "code",
   "execution_count": 10,
   "metadata": {},
   "outputs": [
    {
     "data": {
      "text/plain": [
       "['duration_in_month',\n",
       " 'credit_amount',\n",
       " 'installment_as_income_perc',\n",
       " 'present_res_since',\n",
       " 'age',\n",
       " 'credits_this_bank',\n",
       " 'people_under_maintenance']"
      ]
     },
     "execution_count": 10,
     "metadata": {},
     "output_type": "execute_result"
    }
   ],
   "source": [
    "num_cols = [col for col in df.columns if col not in cat_cols and col != \"default\"]\n",
    "num_cols"
   ]
  },
  {
   "cell_type": "code",
   "execution_count": 11,
   "metadata": {},
   "outputs": [
    {
     "data": {
      "text/html": [
       "<div>\n",
       "<style scoped>\n",
       "    .dataframe tbody tr th:only-of-type {\n",
       "        vertical-align: middle;\n",
       "    }\n",
       "\n",
       "    .dataframe tbody tr th {\n",
       "        vertical-align: top;\n",
       "    }\n",
       "\n",
       "    .dataframe thead th {\n",
       "        text-align: right;\n",
       "    }\n",
       "</style>\n",
       "<table border=\"1\" class=\"dataframe\">\n",
       "  <thead>\n",
       "    <tr style=\"text-align: right;\">\n",
       "      <th></th>\n",
       "      <th>duration_in_month</th>\n",
       "      <th>credit_amount</th>\n",
       "      <th>installment_as_income_perc</th>\n",
       "      <th>present_res_since</th>\n",
       "      <th>age</th>\n",
       "      <th>credits_this_bank</th>\n",
       "      <th>people_under_maintenance</th>\n",
       "    </tr>\n",
       "  </thead>\n",
       "  <tbody>\n",
       "    <tr>\n",
       "      <th>count</th>\n",
       "      <td>1000.000000</td>\n",
       "      <td>1000.000000</td>\n",
       "      <td>1000.000000</td>\n",
       "      <td>1000.000000</td>\n",
       "      <td>1000.000000</td>\n",
       "      <td>1000.000000</td>\n",
       "      <td>1000.000000</td>\n",
       "    </tr>\n",
       "    <tr>\n",
       "      <th>mean</th>\n",
       "      <td>20.903000</td>\n",
       "      <td>3271.258000</td>\n",
       "      <td>2.973000</td>\n",
       "      <td>2.845000</td>\n",
       "      <td>35.546000</td>\n",
       "      <td>1.407000</td>\n",
       "      <td>1.155000</td>\n",
       "    </tr>\n",
       "    <tr>\n",
       "      <th>std</th>\n",
       "      <td>12.058814</td>\n",
       "      <td>2822.736876</td>\n",
       "      <td>1.118715</td>\n",
       "      <td>1.103718</td>\n",
       "      <td>11.375469</td>\n",
       "      <td>0.577654</td>\n",
       "      <td>0.362086</td>\n",
       "    </tr>\n",
       "    <tr>\n",
       "      <th>min</th>\n",
       "      <td>4.000000</td>\n",
       "      <td>250.000000</td>\n",
       "      <td>1.000000</td>\n",
       "      <td>1.000000</td>\n",
       "      <td>19.000000</td>\n",
       "      <td>1.000000</td>\n",
       "      <td>1.000000</td>\n",
       "    </tr>\n",
       "    <tr>\n",
       "      <th>25%</th>\n",
       "      <td>12.000000</td>\n",
       "      <td>1365.500000</td>\n",
       "      <td>2.000000</td>\n",
       "      <td>2.000000</td>\n",
       "      <td>27.000000</td>\n",
       "      <td>1.000000</td>\n",
       "      <td>1.000000</td>\n",
       "    </tr>\n",
       "    <tr>\n",
       "      <th>50%</th>\n",
       "      <td>18.000000</td>\n",
       "      <td>2319.500000</td>\n",
       "      <td>3.000000</td>\n",
       "      <td>3.000000</td>\n",
       "      <td>33.000000</td>\n",
       "      <td>1.000000</td>\n",
       "      <td>1.000000</td>\n",
       "    </tr>\n",
       "    <tr>\n",
       "      <th>75%</th>\n",
       "      <td>24.000000</td>\n",
       "      <td>3972.250000</td>\n",
       "      <td>4.000000</td>\n",
       "      <td>4.000000</td>\n",
       "      <td>42.000000</td>\n",
       "      <td>2.000000</td>\n",
       "      <td>1.000000</td>\n",
       "    </tr>\n",
       "    <tr>\n",
       "      <th>max</th>\n",
       "      <td>72.000000</td>\n",
       "      <td>18424.000000</td>\n",
       "      <td>4.000000</td>\n",
       "      <td>4.000000</td>\n",
       "      <td>75.000000</td>\n",
       "      <td>4.000000</td>\n",
       "      <td>2.000000</td>\n",
       "    </tr>\n",
       "  </tbody>\n",
       "</table>\n",
       "</div>"
      ],
      "text/plain": [
       "       duration_in_month  credit_amount  installment_as_income_perc  \\\n",
       "count        1000.000000    1000.000000                 1000.000000   \n",
       "mean           20.903000    3271.258000                    2.973000   \n",
       "std            12.058814    2822.736876                    1.118715   \n",
       "min             4.000000     250.000000                    1.000000   \n",
       "25%            12.000000    1365.500000                    2.000000   \n",
       "50%            18.000000    2319.500000                    3.000000   \n",
       "75%            24.000000    3972.250000                    4.000000   \n",
       "max            72.000000   18424.000000                    4.000000   \n",
       "\n",
       "       present_res_since          age  credits_this_bank  \\\n",
       "count        1000.000000  1000.000000        1000.000000   \n",
       "mean            2.845000    35.546000           1.407000   \n",
       "std             1.103718    11.375469           0.577654   \n",
       "min             1.000000    19.000000           1.000000   \n",
       "25%             2.000000    27.000000           1.000000   \n",
       "50%             3.000000    33.000000           1.000000   \n",
       "75%             4.000000    42.000000           2.000000   \n",
       "max             4.000000    75.000000           4.000000   \n",
       "\n",
       "       people_under_maintenance  \n",
       "count               1000.000000  \n",
       "mean                   1.155000  \n",
       "std                    0.362086  \n",
       "min                    1.000000  \n",
       "25%                    1.000000  \n",
       "50%                    1.000000  \n",
       "75%                    1.000000  \n",
       "max                    2.000000  "
      ]
     },
     "execution_count": 11,
     "metadata": {},
     "output_type": "execute_result"
    }
   ],
   "source": [
    "df[num_cols].describe()"
   ]
  },
  {
   "cell_type": "code",
   "execution_count": 12,
   "metadata": {},
   "outputs": [
    {
     "data": {
      "text/plain": [
       "<Axes: >"
      ]
     },
     "execution_count": 12,
     "metadata": {},
     "output_type": "execute_result"
    },
    {
     "data": {
      "image/png": "[encoded data removed]",
      "text/plain": [
       "<Figure size 640x480 with 2 Axes>"
      ]
     },
     "metadata": {},
     "output_type": "display_data"
    }
   ],
   "source": [
    "import seaborn as sns\n",
    "import matplotlib.pyplot as plt\n",
    "sns.heatmap(df[num_cols].corr(), annot = True, fmt = \"0.2f\", linewidths = 2)"
   ]
  },
  {
   "cell_type": "markdown",
   "metadata": {},
   "source": [
    "## Exploratory data analysis"
   ]
  },
  {
   "cell_type": "markdown",
   "metadata": {},
   "source": [
    "#### Target mean analysis by category\n"
   ]
  },
  {
   "cell_type": "code",
   "execution_count": 13,
   "metadata": {},
   "outputs": [
    {
     "name": "stdout",
     "output_type": "stream",
     "text": [
      "account_check_status\n",
      "0 <= ... < 200 DM                                     0.390335\n",
      "< 0 DM                                                0.492701\n",
      ">= 200 DM / salary assignments for at least 1 year    0.222222\n",
      "no checking account                                   0.116751\n",
      "Name: default, dtype: float64\n"
     ]
    },
    {
     "data": {
      "image/png": "[encoded data removed]",
      "text/plain": [
       "<Figure size 640x480 with 1 Axes>"
      ]
     },
     "metadata": {},
     "output_type": "display_data"
    },
    {
     "name": "stdout",
     "output_type": "stream",
     "text": [
      "------------------\n",
      "credit_history\n",
      "all credits at this bank paid back duly                        0.571429\n",
      "critical account/ other credits existing (not at this bank)    0.170648\n",
      "delay in paying off in the past                                0.318182\n",
      "existing credits paid back duly till now                       0.318868\n",
      "no credits taken/ all credits paid back duly                   0.625000\n",
      "Name: default, dtype: float64\n"
     ]
    },
    {
     "data": {
      "image/png": "[encoded data removed]",
      "text/plain": [
       "<Figure size 640x480 with 1 Axes>"
      ]
     },
     "metadata": {},
     "output_type": "display_data"
    },
    {
     "name": "stdout",
     "output_type": "stream",
     "text": [
      "------------------\n",
      "purpose\n",
      "(vacation - does not exist?)    0.440000\n",
      "business                        0.350515\n",
      "car (new)                       0.380342\n",
      "car (used)                      0.165049\n",
      "domestic appliances             0.221429\n",
      "education                       0.363636\n",
      "furniture/equipment             0.416667\n",
      "radio/television                0.320442\n",
      "repairs                         0.333333\n",
      "retraining                      0.111111\n",
      "Name: default, dtype: float64\n"
     ]
    },
    {
     "data": {
      "image/png": "[encoded data removed]",
      "text/plain": [
       "<Figure size 640x480 with 1 Axes>"
      ]
     },
     "metadata": {},
     "output_type": "display_data"
    },
    {
     "name": "stdout",
     "output_type": "stream",
     "text": [
      "------------------\n"
     ]
    }
   ],
   "source": [
    "for cat_col in cat_cols1:\n",
    "    print(df.groupby(cat_col)[\"default\"].mean())\n",
    "    sns.barplot(x = cat_col, y = \"default\", data = df, estimator = \"mean\")\n",
    "    plt.show()\n",
    "    print(\"------------------\")"
   ]
  },
  {
   "cell_type": "markdown",
   "metadata": {},
   "source": [
    "### Chi-square test to Independence\n",
    "\n",
    "Interpretation: \n",
    "If p-value < 0.05, the feature is likely related to the target.  \n",
    "\n",
    "If p-value >= 0.05, no significant relationship exists. \n"
   ]
  },
  {
   "cell_type": "code",
   "execution_count": 14,
   "metadata": {},
   "outputs": [
    {
     "name": "stdout",
     "output_type": "stream",
     "text": [
      "default                                               0    1\n",
      "account_check_status                                        \n",
      "0 <= ... < 200 DM                                   164  105\n",
      "< 0 DM                                              139  135\n",
      ">= 200 DM / salary assignments for at least 1 year   49   14\n",
      "no checking account                                 348   46\n",
      "______________category: account_check_status \n",
      " p value: 1.218902072289385e-26________\n",
      "default                                               0    1\n",
      "credit_history                                              \n",
      "all credits at this bank paid back duly              21   28\n",
      "critical account/ other credits existing (not a...  243   50\n",
      "delay in paying off in the past                      60   28\n",
      "existing credits paid back duly till now            361  169\n",
      "no credits taken/ all credits paid back duly         15   25\n",
      "______________category: credit_history \n",
      " p value: 1.2791872956750962e-12________\n",
      "default                         0   1\n",
      "purpose                              \n",
      "(vacation - does not exist?)   28  22\n",
      "business                       63  34\n",
      "car (new)                     145  89\n",
      "car (used)                     86  17\n",
      "domestic appliances           218  62\n",
      "education                      14   8\n",
      "furniture/equipment             7   5\n",
      "radio/television              123  58\n",
      "repairs                         8   4\n",
      "retraining                      8   1\n",
      "______________category: purpose \n",
      " p value: 0.00011574910079691631________\n"
     ]
    }
   ],
   "source": [
    "from scipy.stats import chi2_contingency\n",
    "for cat_col in cat_cols1:\n",
    "    contingency_table = pd.crosstab(df[cat_col], df[\"default\"])\n",
    "    print(contingency_table)\n",
    "    chi2, p_value, _, _ = chi2_contingency(contingency_table)\n",
    "    print(\"______________category: {} \\n p value: {}________\".format(cat_col,p_value))\n"
   ]
  },
  {
   "cell_type": "markdown",
   "metadata": {},
   "source": [
    "### Random forest feature importance"
   ]
  },
  {
   "cell_type": "code",
   "execution_count": 15,
   "metadata": {},
   "outputs": [
    {
     "name": "stdout",
     "output_type": "stream",
     "text": [
      "account_check_status\n",
      "[0.13684809 0.33740037 0.04496804 0.4807835 ]\n",
      "credit_history\n",
      "[0.21804861 0.38298477 0.04969071 0.11909821 0.23017769]\n",
      "purpose\n",
      "[0.11993345 0.04118327 0.15968888 0.25035742 0.22135472 0.03305988\n",
      " 0.0436491  0.05148291 0.02523171 0.05405865]\n"
     ]
    }
   ],
   "source": [
    "from sklearn.ensemble import RandomForestClassifier\n",
    "from sklearn.preprocessing import OneHotEncoder\n",
    "from sklearn.pipeline import Pipeline\n",
    "\n",
    "pipeline = Pipeline([\n",
    "    (\"encoder\", OneHotEncoder(handle_unknown=\"ignore\")),\n",
    "    (\"model\", RandomForestClassifier(random_state=42))\n",
    "])\n",
    "for cat_col in cat_cols1:\n",
    "    pipeline.fit(df[[cat_col]], df[\"default\"])\n",
    "    print(cat_col)\n",
    "    print(pipeline.named_steps[\"model\"].feature_importances_)"
   ]
  },
  {
   "cell_type": "code",
   "execution_count": 16,
   "metadata": {},
   "outputs": [
    {
     "ename": "NameError",
     "evalue": "name 'X' is not defined",
     "output_type": "error",
     "traceback": [
      "\u001b[0;31m---------------------------------------------------------------------------\u001b[0m",
      "\u001b[0;31mNameError\u001b[0m                                 Traceback (most recent call last)",
      "Cell \u001b[0;32mIn[16], line 1\u001b[0m\n\u001b[0;32m----> 1\u001b[0m X_train, X_test, y_train, y_test \u001b[38;5;241m=\u001b[39m train_test_split(X,y, random_state \u001b[38;5;241m=\u001b[39m \u001b[38;5;241m42\u001b[39m, stratify\u001b[38;5;241m=\u001b[39my)\n\u001b[1;32m      3\u001b[0m pipeline\u001b[38;5;241m.\u001b[39mfit(df[cat_cols], df[\u001b[38;5;124m\"\u001b[39m\u001b[38;5;124mdefault\u001b[39m\u001b[38;5;124m\"\u001b[39m])\n",
      "\u001b[0;31mNameError\u001b[0m: name 'X' is not defined"
     ]
    }
   ],
   "source": [
    "X_train, X_test, y_train, y_test = train_test_split(X,y, random_state = 42, stratify=y)\n",
    "\n",
    "pipeline.fit(df[cat_cols], df[\"default\"])\n"
   ]
  },
  {
   "cell_type": "code",
   "execution_count": null,
   "metadata": {},
   "outputs": [],
   "source": [
    "import category_encoders as ce \n",
    "from sklearn.metrics import roc_auc_score, precision_score, recall_score, f1_score\n",
    "from sklearn.model_selection import KFold\n"
   ]
  },
  {
   "cell_type": "code",
   "execution_count": null,
   "metadata": {},
   "outputs": [
    {
     "data": {
      "text/plain": [
       "['duration_in_month',\n",
       " 'credit_amount',\n",
       " 'installment_as_income_perc',\n",
       " 'present_res_since',\n",
       " 'age',\n",
       " 'credits_this_bank',\n",
       " 'people_under_maintenance',\n",
       " 'account_check_status',\n",
       " 'credit_history',\n",
       " 'purpose']"
      ]
     },
     "execution_count": 17,
     "metadata": {},
     "output_type": "execute_result"
    }
   ],
   "source": [
    "l1 = []\n",
    "l1.extend(num_cols)\n",
    "l1.extend(cat_cols1)\n",
    "l1"
   ]
  },
  {
   "cell_type": "code",
   "execution_count": null,
   "metadata": {},
   "outputs": [],
   "source": [
    "## Target Encoding\n",
    "\n",
    "## Split data into features and target\n",
    "X = df[l1]\n",
    "y = df[\"default\"]\n",
    "\n",
    "## Cross-Valudation\n",
    "kfold = KFold(n_splits = 5, shuffle = True, random_state = 42)\n",
    "\n",
    "## Target Encoding with smoothing\n",
    "encoder_1 = ce.TargetEncoder(cols = cat_cols1, smoothing = 0.1)\n",
    "\n"
   ]
  },
  {
   "cell_type": "code",
   "execution_count": null,
   "metadata": {},
   "outputs": [
    {
     "data": {
      "text/plain": [
       "Index(['account_check_status', 'credit_history', 'purpose'], dtype='object')"
      ]
     },
     "execution_count": 19,
     "metadata": {},
     "output_type": "execute_result"
    }
   ],
   "source": [
    "cat_cols1"
   ]
  },
  {
   "cell_type": "code",
   "execution_count": null,
   "metadata": {},
   "outputs": [
    {
     "name": "stdout",
     "output_type": "stream",
     "text": [
      "Index(['account_check_status', 'credit_history', 'purpose'], dtype='object')\n",
      "ROC: 0.7803822574828706 \n",
      " Recall : 0.4067796610169492 \n",
      " Precision : 0.6857142857142857 \n",
      " F1_score : 0.5106382978723404\n",
      "Index(['account_check_status', 'credit_history', 'purpose'], dtype='object')\n",
      "ROC: 0.7786993629041953 \n",
      " Recall : 0.4067796610169492 \n",
      " Precision : 0.6857142857142857 \n",
      " F1_score : 0.5106382978723404\n",
      "Index(['account_check_status', 'credit_history', 'purpose'], dtype='object')\n",
      "ROC: 0.7085624509033779 \n",
      " Recall : 0.4626865671641791 \n",
      " Precision : 0.5849056603773585 \n",
      " F1_score : 0.5166666666666667\n",
      "Index(['account_check_status', 'credit_history', 'purpose'], dtype='object')\n",
      "ROC: 0.785141065830721 \n",
      " Recall : 0.43636363636363634 \n",
      " Precision : 0.6857142857142857 \n",
      " F1_score : 0.5333333333333333\n",
      "Index(['account_check_status', 'credit_history', 'purpose'], dtype='object')\n",
      "ROC: 0.8066071428571427 \n",
      " Recall : 0.5333333333333333 \n",
      " Precision : 0.6530612244897959 \n",
      " F1_score : 0.5871559633027523\n"
     ]
    }
   ],
   "source": [
    "for train_split, val_split in kfold.split(X):\n",
    "    X_train, X_val = X.iloc[train_split], X.iloc[val_split]\n",
    "    y_train, y_val = y.iloc[train_split], y.iloc[val_split]\n",
    "    print(X_train[cat_cols1].columns)\n",
    "    ## Target encoding based on train data\n",
    "    te = encoder_1.fit(X_train[cat_cols1], y_train)\n",
    "\n",
    "    ## Transforming\n",
    "    X_train_encoded = te.transform(X_train[cat_cols1], y_train)\n",
    "    X_val_encoded = te.transform(X_val[cat_cols1], y_val)\n",
    "\n",
    "    X_train_encoded = pd.concat([X_train[num_cols], X_train_encoded], axis = 1)\n",
    "    X_val_encoded = pd.concat([X_val[num_cols], X_val_encoded], axis = 1)\n",
    "\n",
    "\n",
    "    model = RandomForestClassifier(random_state=42)\n",
    "    model.fit(X_train_encoded, y_train)\n",
    "\n",
    "    ##predictions\n",
    "    ### Get prediction probabilities for class 1, i.e., case where deault = 1\n",
    "    y_pred_prob = model.predict_proba(X_val_encoded)[:,1]\n",
    "    y_pred = model.predict(X_val_encoded)\n",
    "\n",
    "    ### Evaluate the model\n",
    "    roc_auc = roc_auc_score(y_val, y_pred_prob)\n",
    "    recall = recall_score(y_val,y_pred)\n",
    "    precision = precision_score(y_val,y_pred)\n",
    "    f1 = f1_score(y_val,y_pred)\n",
    "\n",
    "    print(\"ROC: {} \\n Recall : {} \\n Precision : {} \\n F1_score : {}\".format(roc_auc, recall, precision, f1))\n",
    "\n"
   ]
  },
  {
   "cell_type": "code",
   "execution_count": null,
   "metadata": {},
   "outputs": [],
   "source": []
  }
 ],
 "metadata": {
  "kernelspec": {
   "display_name": "base",
   "language": "python",
   "name": "python3"
  },
  "language_info": {
   "codemirror_mode": {
    "name": "ipython",
    "version": 3
   },
   "file_extension": ".py",
   "mimetype": "text/x-python",
   "name": "python",
   "nbconvert_exporter": "python",
   "pygments_lexer": "ipython3",
   "version": "3.12.7"
  }
 },
 "nbformat": 4,
 "nbformat_minor": 2
}
