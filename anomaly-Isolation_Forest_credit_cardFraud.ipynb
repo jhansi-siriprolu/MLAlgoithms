{
 "cells": [
  {
   "cell_type": "code",
   "execution_count": 1,
   "metadata": {},
   "outputs": [
    {
     "ename": "ModuleNotFoundError",
     "evalue": "No module named 'numpy'",
     "output_type": "error",
     "traceback": [
      "\u001b[0;31m---------------------------------------------------------------------------\u001b[0m",
      "\u001b[0;31mModuleNotFoundError\u001b[0m                       Traceback (most recent call last)",
      "Cell \u001b[0;32mIn[1], line 1\u001b[0m\n\u001b[0;32m----> 1\u001b[0m \u001b[38;5;28;01mimport\u001b[39;00m \u001b[38;5;21;01mnumpy\u001b[39;00m \u001b[38;5;28;01mas\u001b[39;00m \u001b[38;5;21;01mnp\u001b[39;00m\n\u001b[1;32m      2\u001b[0m \u001b[38;5;28;01mimport\u001b[39;00m \u001b[38;5;21;01mpandas\u001b[39;00m \u001b[38;5;28;01mas\u001b[39;00m \u001b[38;5;21;01mpd\u001b[39;00m\n\u001b[1;32m      3\u001b[0m \u001b[38;5;28;01mfrom\u001b[39;00m \u001b[38;5;21;01msklearn\u001b[39;00m\u001b[38;5;21;01m.\u001b[39;00m\u001b[38;5;21;01mensemble\u001b[39;00m \u001b[38;5;28;01mimport\u001b[39;00m IsolationForest\n",
      "\u001b[0;31mModuleNotFoundError\u001b[0m: No module named 'numpy'"
     ]
    }
   ],
   "source": [
    "import numpy as np\n",
    "import pandas as pd\n",
    "from sklearn.ensemble import IsolationForest\n",
    "from sklearn.model_selection import train_test_split\n",
    "from sklearn.preprocessing import StandardScaler\n",
    "from sklearn.metrics import classification_report\n",
    "\n",
    "# Load the dataset (example: Iris dataset for simplicity)\n",
    "from sklearn.datasets import load_iris\n",
    "data = load_iris()\n",
    "X = data.data\n",
    "\n",
    "# Train-Test Split (first)\n",
    "X_train, X_test = train_test_split(X, test_size=0.3, random_state=42)\n",
    "\n",
    "# Standardization (scale after split)\n",
    "scaler = StandardScaler()\n",
    "\n",
    "# Fit the scaler only on the training set\n",
    "X_train_scaled = scaler.fit_transform(X_train)\n",
    "\n",
    "# Use the same scaler to transform the test set (no fitting on test data)\n",
    "X_test_scaled = scaler.transform(X_test)\n",
    "\n",
    "# Initialize Isolation Forest\n",
    "iso_forest = IsolationForest(contamination=0.1, random_state=42)\n",
    "\n",
    "# Fit the model on the scaled training data\n",
    "iso_forest.fit(X_train_scaled)\n",
    "\n",
    "# Predict anomalies on the test set\n",
    "y_pred_train = iso_forest.predict(X_train_scaled)\n",
    "y_pred_test = iso_forest.predict(X_test_scaled)\n",
    "\n",
    "# Convert the predictions to binary (1 for normal, -1 for anomaly)\n",
    "y_pred_train = np.where(y_pred_train == 1, 0, 1)\n",
    "y_pred_test = np.where(y_pred_test == 1, 0, 1)\n",
    "\n",
    "# Evaluate the model (if you have true labels for anomalies)\n",
    "print(\"Training Set Anomaly Detection Results:\")\n",
    "print(classification_report(y_pred_train, y_pred_train))  # Replace with actual labels if available\n",
    "print(\"Test Set Anomaly Detection Results:\")\n",
    "print(classification_report(y_pred_test, y_pred_test))    # Replace with actual labels if available\n"
   ]
  },
  {
   "cell_type": "code",
   "execution_count": null,
   "metadata": {},
   "outputs": [],
   "source": []
  }
 ],
 "metadata": {
  "kernelspec": {
   "display_name": "Python 3",
   "language": "python",
   "name": "python3"
  },
  "language_info": {
   "codemirror_mode": {
    "name": "ipython",
    "version": 3
   },
   "file_extension": ".py",
   "mimetype": "text/x-python",
   "name": "python",
   "nbconvert_exporter": "python",
   "pygments_lexer": "ipython3",
   "version": "3.9.6"
  }
 },
 "nbformat": 4,
 "nbformat_minor": 2
}
