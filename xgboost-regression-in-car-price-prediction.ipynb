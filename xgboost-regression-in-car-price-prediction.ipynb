{
 "cells": [
  {
   "cell_type": "code",
   "execution_count": 1,
   "id": "f45fec33",
   "metadata": {
    "_cell_guid": "b1076dfc-b9ad-4769-8c92-a6c4dae69d19",
    "_uuid": "8f2839f25d086af736a60e9eeb907d3b93b6e0e5",
    "execution": {
     "iopub.execute_input": "2024-11-12T07:40:52.318276Z",
     "iopub.status.busy": "2024-11-12T07:40:52.317790Z",
     "iopub.status.idle": "2024-11-12T07:40:53.058664Z",
     "shell.execute_reply": "2024-11-12T07:40:53.057487Z"
    },
    "papermill": {
     "duration": 0.753507,
     "end_time": "2024-11-12T07:40:53.061881",
     "exception": false,
     "start_time": "2024-11-12T07:40:52.308374",
     "status": "completed"
    },
    "tags": []
   },
   "outputs": [
    {
     "name": "stdout",
     "output_type": "stream",
     "text": [
      "/kaggle/input/car-price-prediction/CarPrice_Assignment.csv\n",
      "/kaggle/input/car-price-prediction/Data Dictionary - carprices.xlsx\n"
     ]
    }
   ],
   "source": [
    "# This Python 3 environment comes with many helpful analytics libraries installed\n",
    "# It is defined by the kaggle/python Docker image: https://github.com/kaggle/docker-python\n",
    "# For example, here's several helpful packages to load\n",
    "\n",
    "import numpy as np # linear algebra\n",
    "import pandas as pd # data processing, CSV file I/O (e.g. pd.read_csv)\n",
    "\n",
    "# Input data files are available in the read-only \"../input/\" directory\n",
    "# For example, running this (by clicking run or pressing Shift+Enter) will list all files under the input directory\n",
    "\n",
    "import os\n",
    "for dirname, _, filenames in os.walk('/kaggle/input'):\n",
    "    for filename in filenames:\n",
    "        print(os.path.join(dirname, filename))\n",
    "\n",
    "# You can write up to 20GB to the current directory (/kaggle/working/) that gets preserved as output when you create a version using \"Save & Run All\" \n",
    "# You can also write temporary files to /kaggle/temp/, but they won't be saved outside of the current session"
   ]
  },
  {
   "cell_type": "markdown",
   "id": "634754ae",
   "metadata": {
    "papermill": {
     "duration": 0.006747,
     "end_time": "2024-11-12T07:40:53.076299",
     "exception": false,
     "start_time": "2024-11-12T07:40:53.069552",
     "status": "completed"
    },
    "tags": []
   },
   "source": [
    "## Load Data"
   ]
  },
  {
   "cell_type": "code",
   "execution_count": 2,
   "id": "cfc0ab44",
   "metadata": {
    "execution": {
     "iopub.execute_input": "2024-11-12T07:40:53.092047Z",
     "iopub.status.busy": "2024-11-12T07:40:53.091518Z",
     "iopub.status.idle": "2024-11-12T07:40:53.142518Z",
     "shell.execute_reply": "2024-11-12T07:40:53.141497Z"
    },
    "papermill": {
     "duration": 0.061511,
     "end_time": "2024-11-12T07:40:53.144854",
     "exception": false,
     "start_time": "2024-11-12T07:40:53.083343",
     "status": "completed"
    },
    "tags": []
   },
   "outputs": [
    {
     "data": {
      "text/html": [
       "<div>\n",
       "<style scoped>\n",
       "    .dataframe tbody tr th:only-of-type {\n",
       "        vertical-align: middle;\n",
       "    }\n",
       "\n",
       "    .dataframe tbody tr th {\n",
       "        vertical-align: top;\n",
       "    }\n",
       "\n",
       "    .dataframe thead th {\n",
       "        text-align: right;\n",
       "    }\n",
       "</style>\n",
       "<table border=\"1\" class=\"dataframe\">\n",
       "  <thead>\n",
       "    <tr style=\"text-align: right;\">\n",
       "      <th></th>\n",
       "      <th>car_ID</th>\n",
       "      <th>symboling</th>\n",
       "      <th>CarName</th>\n",
       "      <th>fueltype</th>\n",
       "      <th>aspiration</th>\n",
       "      <th>doornumber</th>\n",
       "      <th>carbody</th>\n",
       "      <th>drivewheel</th>\n",
       "      <th>enginelocation</th>\n",
       "      <th>wheelbase</th>\n",
       "      <th>...</th>\n",
       "      <th>enginesize</th>\n",
       "      <th>fuelsystem</th>\n",
       "      <th>boreratio</th>\n",
       "      <th>stroke</th>\n",
       "      <th>compressionratio</th>\n",
       "      <th>horsepower</th>\n",
       "      <th>peakrpm</th>\n",
       "      <th>citympg</th>\n",
       "      <th>highwaympg</th>\n",
       "      <th>price</th>\n",
       "    </tr>\n",
       "  </thead>\n",
       "  <tbody>\n",
       "    <tr>\n",
       "      <th>0</th>\n",
       "      <td>1</td>\n",
       "      <td>3</td>\n",
       "      <td>alfa-romero giulia</td>\n",
       "      <td>gas</td>\n",
       "      <td>std</td>\n",
       "      <td>two</td>\n",
       "      <td>convertible</td>\n",
       "      <td>rwd</td>\n",
       "      <td>front</td>\n",
       "      <td>88.6</td>\n",
       "      <td>...</td>\n",
       "      <td>130</td>\n",
       "      <td>mpfi</td>\n",
       "      <td>3.47</td>\n",
       "      <td>2.68</td>\n",
       "      <td>9.0</td>\n",
       "      <td>111</td>\n",
       "      <td>5000</td>\n",
       "      <td>21</td>\n",
       "      <td>27</td>\n",
       "      <td>13495.0</td>\n",
       "    </tr>\n",
       "    <tr>\n",
       "      <th>1</th>\n",
       "      <td>2</td>\n",
       "      <td>3</td>\n",
       "      <td>alfa-romero stelvio</td>\n",
       "      <td>gas</td>\n",
       "      <td>std</td>\n",
       "      <td>two</td>\n",
       "      <td>convertible</td>\n",
       "      <td>rwd</td>\n",
       "      <td>front</td>\n",
       "      <td>88.6</td>\n",
       "      <td>...</td>\n",
       "      <td>130</td>\n",
       "      <td>mpfi</td>\n",
       "      <td>3.47</td>\n",
       "      <td>2.68</td>\n",
       "      <td>9.0</td>\n",
       "      <td>111</td>\n",
       "      <td>5000</td>\n",
       "      <td>21</td>\n",
       "      <td>27</td>\n",
       "      <td>16500.0</td>\n",
       "    </tr>\n",
       "    <tr>\n",
       "      <th>2</th>\n",
       "      <td>3</td>\n",
       "      <td>1</td>\n",
       "      <td>alfa-romero Quadrifoglio</td>\n",
       "      <td>gas</td>\n",
       "      <td>std</td>\n",
       "      <td>two</td>\n",
       "      <td>hatchback</td>\n",
       "      <td>rwd</td>\n",
       "      <td>front</td>\n",
       "      <td>94.5</td>\n",
       "      <td>...</td>\n",
       "      <td>152</td>\n",
       "      <td>mpfi</td>\n",
       "      <td>2.68</td>\n",
       "      <td>3.47</td>\n",
       "      <td>9.0</td>\n",
       "      <td>154</td>\n",
       "      <td>5000</td>\n",
       "      <td>19</td>\n",
       "      <td>26</td>\n",
       "      <td>16500.0</td>\n",
       "    </tr>\n",
       "    <tr>\n",
       "      <th>3</th>\n",
       "      <td>4</td>\n",
       "      <td>2</td>\n",
       "      <td>audi 100 ls</td>\n",
       "      <td>gas</td>\n",
       "      <td>std</td>\n",
       "      <td>four</td>\n",
       "      <td>sedan</td>\n",
       "      <td>fwd</td>\n",
       "      <td>front</td>\n",
       "      <td>99.8</td>\n",
       "      <td>...</td>\n",
       "      <td>109</td>\n",
       "      <td>mpfi</td>\n",
       "      <td>3.19</td>\n",
       "      <td>3.40</td>\n",
       "      <td>10.0</td>\n",
       "      <td>102</td>\n",
       "      <td>5500</td>\n",
       "      <td>24</td>\n",
       "      <td>30</td>\n",
       "      <td>13950.0</td>\n",
       "    </tr>\n",
       "    <tr>\n",
       "      <th>4</th>\n",
       "      <td>5</td>\n",
       "      <td>2</td>\n",
       "      <td>audi 100ls</td>\n",
       "      <td>gas</td>\n",
       "      <td>std</td>\n",
       "      <td>four</td>\n",
       "      <td>sedan</td>\n",
       "      <td>4wd</td>\n",
       "      <td>front</td>\n",
       "      <td>99.4</td>\n",
       "      <td>...</td>\n",
       "      <td>136</td>\n",
       "      <td>mpfi</td>\n",
       "      <td>3.19</td>\n",
       "      <td>3.40</td>\n",
       "      <td>8.0</td>\n",
       "      <td>115</td>\n",
       "      <td>5500</td>\n",
       "      <td>18</td>\n",
       "      <td>22</td>\n",
       "      <td>17450.0</td>\n",
       "    </tr>\n",
       "  </tbody>\n",
       "</table>\n",
       "<p>5 rows × 26 columns</p>\n",
       "</div>"
      ],
      "text/plain": [
       "   car_ID  symboling                   CarName fueltype aspiration doornumber  \\\n",
       "0       1          3        alfa-romero giulia      gas        std        two   \n",
       "1       2          3       alfa-romero stelvio      gas        std        two   \n",
       "2       3          1  alfa-romero Quadrifoglio      gas        std        two   \n",
       "3       4          2               audi 100 ls      gas        std       four   \n",
       "4       5          2                audi 100ls      gas        std       four   \n",
       "\n",
       "       carbody drivewheel enginelocation  wheelbase  ...  enginesize  \\\n",
       "0  convertible        rwd          front       88.6  ...         130   \n",
       "1  convertible        rwd          front       88.6  ...         130   \n",
       "2    hatchback        rwd          front       94.5  ...         152   \n",
       "3        sedan        fwd          front       99.8  ...         109   \n",
       "4        sedan        4wd          front       99.4  ...         136   \n",
       "\n",
       "   fuelsystem  boreratio  stroke compressionratio horsepower  peakrpm citympg  \\\n",
       "0        mpfi       3.47    2.68              9.0        111     5000      21   \n",
       "1        mpfi       3.47    2.68              9.0        111     5000      21   \n",
       "2        mpfi       2.68    3.47              9.0        154     5000      19   \n",
       "3        mpfi       3.19    3.40             10.0        102     5500      24   \n",
       "4        mpfi       3.19    3.40              8.0        115     5500      18   \n",
       "\n",
       "   highwaympg    price  \n",
       "0          27  13495.0  \n",
       "1          27  16500.0  \n",
       "2          26  16500.0  \n",
       "3          30  13950.0  \n",
       "4          22  17450.0  \n",
       "\n",
       "[5 rows x 26 columns]"
      ]
     },
     "execution_count": 2,
     "metadata": {},
     "output_type": "execute_result"
    }
   ],
   "source": [
    "df = pd.read_csv(\"/kaggle/input/car-price-prediction/CarPrice_Assignment.csv\")\n",
    "df.head()"
   ]
  },
  {
   "cell_type": "code",
   "execution_count": 3,
   "id": "8541e1b0",
   "metadata": {
    "execution": {
     "iopub.execute_input": "2024-11-12T07:40:53.161263Z",
     "iopub.status.busy": "2024-11-12T07:40:53.160878Z",
     "iopub.status.idle": "2024-11-12T07:40:53.181782Z",
     "shell.execute_reply": "2024-11-12T07:40:53.180673Z"
    },
    "papermill": {
     "duration": 0.031849,
     "end_time": "2024-11-12T07:40:53.184263",
     "exception": false,
     "start_time": "2024-11-12T07:40:53.152414",
     "status": "completed"
    },
    "tags": []
   },
   "outputs": [
    {
     "name": "stdout",
     "output_type": "stream",
     "text": [
      "<class 'pandas.core.frame.DataFrame'>\n",
      "RangeIndex: 205 entries, 0 to 204\n",
      "Data columns (total 26 columns):\n",
      " #   Column            Non-Null Count  Dtype  \n",
      "---  ------            --------------  -----  \n",
      " 0   car_ID            205 non-null    int64  \n",
      " 1   symboling         205 non-null    int64  \n",
      " 2   CarName           205 non-null    object \n",
      " 3   fueltype          205 non-null    object \n",
      " 4   aspiration        205 non-null    object \n",
      " 5   doornumber        205 non-null    object \n",
      " 6   carbody           205 non-null    object \n",
      " 7   drivewheel        205 non-null    object \n",
      " 8   enginelocation    205 non-null    object \n",
      " 9   wheelbase         205 non-null    float64\n",
      " 10  carlength         205 non-null    float64\n",
      " 11  carwidth          205 non-null    float64\n",
      " 12  carheight         205 non-null    float64\n",
      " 13  curbweight        205 non-null    int64  \n",
      " 14  enginetype        205 non-null    object \n",
      " 15  cylindernumber    205 non-null    object \n",
      " 16  enginesize        205 non-null    int64  \n",
      " 17  fuelsystem        205 non-null    object \n",
      " 18  boreratio         205 non-null    float64\n",
      " 19  stroke            205 non-null    float64\n",
      " 20  compressionratio  205 non-null    float64\n",
      " 21  horsepower        205 non-null    int64  \n",
      " 22  peakrpm           205 non-null    int64  \n",
      " 23  citympg           205 non-null    int64  \n",
      " 24  highwaympg        205 non-null    int64  \n",
      " 25  price             205 non-null    float64\n",
      "dtypes: float64(8), int64(8), object(10)\n",
      "memory usage: 41.8+ KB\n"
     ]
    }
   ],
   "source": [
    "df.info()"
   ]
  },
  {
   "cell_type": "markdown",
   "id": "bebe114f",
   "metadata": {
    "papermill": {
     "duration": 0.007418,
     "end_time": "2024-11-12T07:40:53.200478",
     "exception": false,
     "start_time": "2024-11-12T07:40:53.193060",
     "status": "completed"
    },
    "tags": []
   },
   "source": [
    "## Missing Values"
   ]
  },
  {
   "cell_type": "code",
   "execution_count": 4,
   "id": "0e885deb",
   "metadata": {
    "execution": {
     "iopub.execute_input": "2024-11-12T07:40:53.216984Z",
     "iopub.status.busy": "2024-11-12T07:40:53.216597Z",
     "iopub.status.idle": "2024-11-12T07:40:53.225040Z",
     "shell.execute_reply": "2024-11-12T07:40:53.224073Z"
    },
    "papermill": {
     "duration": 0.019079,
     "end_time": "2024-11-12T07:40:53.227039",
     "exception": false,
     "start_time": "2024-11-12T07:40:53.207960",
     "status": "completed"
    },
    "tags": []
   },
   "outputs": [
    {
     "data": {
      "text/plain": [
       "car_ID              0\n",
       "symboling           0\n",
       "CarName             0\n",
       "fueltype            0\n",
       "aspiration          0\n",
       "doornumber          0\n",
       "carbody             0\n",
       "drivewheel          0\n",
       "enginelocation      0\n",
       "wheelbase           0\n",
       "carlength           0\n",
       "carwidth            0\n",
       "carheight           0\n",
       "curbweight          0\n",
       "enginetype          0\n",
       "cylindernumber      0\n",
       "enginesize          0\n",
       "fuelsystem          0\n",
       "boreratio           0\n",
       "stroke              0\n",
       "compressionratio    0\n",
       "horsepower          0\n",
       "peakrpm             0\n",
       "citympg             0\n",
       "highwaympg          0\n",
       "price               0\n",
       "dtype: int64"
      ]
     },
     "execution_count": 4,
     "metadata": {},
     "output_type": "execute_result"
    }
   ],
   "source": [
    "df.isnull().sum()"
   ]
  },
  {
   "cell_type": "markdown",
   "id": "1001a369",
   "metadata": {
    "papermill": {
     "duration": 0.007478,
     "end_time": "2024-11-12T07:40:53.241915",
     "exception": false,
     "start_time": "2024-11-12T07:40:53.234437",
     "status": "completed"
    },
    "tags": []
   },
   "source": [
    "## Categorical columns and the value counts"
   ]
  },
  {
   "cell_type": "code",
   "execution_count": 5,
   "id": "0eefad31",
   "metadata": {
    "execution": {
     "iopub.execute_input": "2024-11-12T07:40:53.258201Z",
     "iopub.status.busy": "2024-11-12T07:40:53.257537Z",
     "iopub.status.idle": "2024-11-12T07:40:53.262126Z",
     "shell.execute_reply": "2024-11-12T07:40:53.261219Z"
    },
    "papermill": {
     "duration": 0.014812,
     "end_time": "2024-11-12T07:40:53.264064",
     "exception": false,
     "start_time": "2024-11-12T07:40:53.249252",
     "status": "completed"
    },
    "tags": []
   },
   "outputs": [],
   "source": [
    "cat_cols = df.select_dtypes(\"O\").columns"
   ]
  },
  {
   "cell_type": "code",
   "execution_count": 6,
   "id": "81d72ded",
   "metadata": {
    "execution": {
     "iopub.execute_input": "2024-11-12T07:40:53.280568Z",
     "iopub.status.busy": "2024-11-12T07:40:53.279990Z",
     "iopub.status.idle": "2024-11-12T07:40:53.293249Z",
     "shell.execute_reply": "2024-11-12T07:40:53.292204Z"
    },
    "papermill": {
     "duration": 0.024259,
     "end_time": "2024-11-12T07:40:53.295715",
     "exception": false,
     "start_time": "2024-11-12T07:40:53.271456",
     "status": "completed"
    },
    "tags": []
   },
   "outputs": [
    {
     "name": "stdout",
     "output_type": "stream",
     "text": [
      "CarName\n",
      "toyota corona           6\n",
      "toyota corolla          6\n",
      "peugeot 504             6\n",
      "subaru dl               4\n",
      "mitsubishi mirage g4    3\n",
      "                       ..\n",
      "mazda glc 4             1\n",
      "mazda rx2 coupe         1\n",
      "maxda glc deluxe        1\n",
      "maxda rx3               1\n",
      "volvo 246               1\n",
      "Name: count, Length: 147, dtype: int64\n",
      "======================\n",
      "fueltype\n",
      "gas       185\n",
      "diesel     20\n",
      "Name: count, dtype: int64\n",
      "======================\n",
      "aspiration\n",
      "std      168\n",
      "turbo     37\n",
      "Name: count, dtype: int64\n",
      "======================\n",
      "doornumber\n",
      "four    115\n",
      "two      90\n",
      "Name: count, dtype: int64\n",
      "======================\n",
      "carbody\n",
      "sedan          96\n",
      "hatchback      70\n",
      "wagon          25\n",
      "hardtop         8\n",
      "convertible     6\n",
      "Name: count, dtype: int64\n",
      "======================\n",
      "drivewheel\n",
      "fwd    120\n",
      "rwd     76\n",
      "4wd      9\n",
      "Name: count, dtype: int64\n",
      "======================\n",
      "enginelocation\n",
      "front    202\n",
      "rear       3\n",
      "Name: count, dtype: int64\n",
      "======================\n",
      "enginetype\n",
      "ohc      148\n",
      "ohcf      15\n",
      "ohcv      13\n",
      "dohc      12\n",
      "l         12\n",
      "rotor      4\n",
      "dohcv      1\n",
      "Name: count, dtype: int64\n",
      "======================\n",
      "cylindernumber\n",
      "four      159\n",
      "six        24\n",
      "five       11\n",
      "eight       5\n",
      "two         4\n",
      "three       1\n",
      "twelve      1\n",
      "Name: count, dtype: int64\n",
      "======================\n",
      "fuelsystem\n",
      "mpfi    94\n",
      "2bbl    66\n",
      "idi     20\n",
      "1bbl    11\n",
      "spdi     9\n",
      "4bbl     3\n",
      "mfi      1\n",
      "spfi     1\n",
      "Name: count, dtype: int64\n",
      "======================\n"
     ]
    }
   ],
   "source": [
    "for col in cat_cols:\n",
    "    print(df[col].value_counts())\n",
    "    print(\"======================\")"
   ]
  },
  {
   "cell_type": "markdown",
   "id": "d61ed86c",
   "metadata": {
    "papermill": {
     "duration": 0.007192,
     "end_time": "2024-11-12T07:40:53.310471",
     "exception": false,
     "start_time": "2024-11-12T07:40:53.303279",
     "status": "completed"
    },
    "tags": []
   },
   "source": [
    "## Train test split of dataset"
   ]
  },
  {
   "cell_type": "code",
   "execution_count": 7,
   "id": "a8021736",
   "metadata": {
    "execution": {
     "iopub.execute_input": "2024-11-12T07:40:53.326623Z",
     "iopub.status.busy": "2024-11-12T07:40:53.326297Z",
     "iopub.status.idle": "2024-11-12T07:40:54.459075Z",
     "shell.execute_reply": "2024-11-12T07:40:54.458191Z"
    },
    "papermill": {
     "duration": 1.143615,
     "end_time": "2024-11-12T07:40:54.461473",
     "exception": false,
     "start_time": "2024-11-12T07:40:53.317858",
     "status": "completed"
    },
    "tags": []
   },
   "outputs": [],
   "source": [
    "from sklearn.model_selection import train_test_split\n",
    "X = df.drop(\"price\",axis = 1)\n",
    "y = df[\"price\"]\n",
    "X_train, X_test, y_train, y_test = train_test_split(X,y,random_state = 42)"
   ]
  },
  {
   "cell_type": "markdown",
   "id": "d430629b",
   "metadata": {
    "papermill": {
     "duration": 0.007513,
     "end_time": "2024-11-12T07:40:54.476865",
     "exception": false,
     "start_time": "2024-11-12T07:40:54.469352",
     "status": "completed"
    },
    "tags": []
   },
   "source": [
    "## K-fold Traget encoding"
   ]
  },
  {
   "cell_type": "code",
   "execution_count": 8,
   "id": "0c818f33",
   "metadata": {
    "execution": {
     "iopub.execute_input": "2024-11-12T07:40:54.494602Z",
     "iopub.status.busy": "2024-11-12T07:40:54.493461Z",
     "iopub.status.idle": "2024-11-12T07:40:54.605536Z",
     "shell.execute_reply": "2024-11-12T07:40:54.604649Z"
    },
    "papermill": {
     "duration": 0.123463,
     "end_time": "2024-11-12T07:40:54.608001",
     "exception": false,
     "start_time": "2024-11-12T07:40:54.484538",
     "status": "completed"
    },
    "tags": []
   },
   "outputs": [],
   "source": [
    "from sklearn.model_selection import KFold\n",
    "import pandas as pd\n",
    "\n",
    "def k_fold_target_encoding(train_data, test_data, cat_columns, target, n_folds=5):\n",
    "    train_data = train_data.copy()\n",
    "    test_data = test_data.copy()\n",
    "    kf = KFold(n_splits=n_folds, shuffle=True, random_state=42)\n",
    "    \n",
    "    for col in cat_columns:\n",
    "        # Initialize encoded column\n",
    "        train_encoded = pd.Series(index=train_data.index, dtype=float)\n",
    "        \n",
    "        # K-Fold Target Encoding for Training Set\n",
    "        for train_idx, val_idx in kf.split(train_data):\n",
    "            train_fold, val_fold = train_data.iloc[train_idx], train_data.iloc[val_idx]\n",
    "            mean_target = train_fold.groupby(col)[target].mean()\n",
    "            train_encoded.iloc[val_idx] = val_fold[col].map(mean_target)\n",
    "        \n",
    "        # Apply encoding to training data\n",
    "        train_data[col + '_encoded'] = train_encoded.fillna(train_data[target].mean())\n",
    "        \n",
    "        # Apply encoding to test data\n",
    "        full_train_mean = train_data.groupby(col)[target].mean()\n",
    "        test_data[col + '_encoded'] = test_data[col].map(full_train_mean).fillna(train_data[target].mean())\n",
    "    \n",
    "    return train_data, test_data\n",
    "\n",
    "## K fold Target Encoding \n",
    "train_data, test_data = k_fold_target_encoding(df.iloc[X_train.index], df.iloc[X_test.index], cat_columns=cat_cols, target='price')\n"
   ]
  },
  {
   "cell_type": "code",
   "execution_count": 9,
   "id": "3d070157",
   "metadata": {
    "execution": {
     "iopub.execute_input": "2024-11-12T07:40:54.624955Z",
     "iopub.status.busy": "2024-11-12T07:40:54.624598Z",
     "iopub.status.idle": "2024-11-12T07:40:54.709790Z",
     "shell.execute_reply": "2024-11-12T07:40:54.708784Z"
    },
    "papermill": {
     "duration": 0.096557,
     "end_time": "2024-11-12T07:40:54.712529",
     "exception": false,
     "start_time": "2024-11-12T07:40:54.615972",
     "status": "completed"
    },
    "tags": []
   },
   "outputs": [
    {
     "name": "stdout",
     "output_type": "stream",
     "text": [
      "<class 'pandas.core.frame.DataFrame'>\n",
      "Index: 153 entries, 90 to 102\n",
      "Data columns (total 36 columns):\n",
      " #   Column                  Non-Null Count  Dtype  \n",
      "---  ------                  --------------  -----  \n",
      " 0   car_ID                  153 non-null    int64  \n",
      " 1   symboling               153 non-null    int64  \n",
      " 2   CarName                 153 non-null    object \n",
      " 3   fueltype                153 non-null    object \n",
      " 4   aspiration              153 non-null    object \n",
      " 5   doornumber              153 non-null    object \n",
      " 6   carbody                 153 non-null    object \n",
      " 7   drivewheel              153 non-null    object \n",
      " 8   enginelocation          153 non-null    object \n",
      " 9   wheelbase               153 non-null    float64\n",
      " 10  carlength               153 non-null    float64\n",
      " 11  carwidth                153 non-null    float64\n",
      " 12  carheight               153 non-null    float64\n",
      " 13  curbweight              153 non-null    int64  \n",
      " 14  enginetype              153 non-null    object \n",
      " 15  cylindernumber          153 non-null    object \n",
      " 16  enginesize              153 non-null    int64  \n",
      " 17  fuelsystem              153 non-null    object \n",
      " 18  boreratio               153 non-null    float64\n",
      " 19  stroke                  153 non-null    float64\n",
      " 20  compressionratio        153 non-null    float64\n",
      " 21  horsepower              153 non-null    int64  \n",
      " 22  peakrpm                 153 non-null    int64  \n",
      " 23  citympg                 153 non-null    int64  \n",
      " 24  highwaympg              153 non-null    int64  \n",
      " 25  price                   153 non-null    float64\n",
      " 26  CarName_encoded         153 non-null    float64\n",
      " 27  fueltype_encoded        153 non-null    float64\n",
      " 28  aspiration_encoded      153 non-null    float64\n",
      " 29  doornumber_encoded      153 non-null    float64\n",
      " 30  carbody_encoded         153 non-null    float64\n",
      " 31  drivewheel_encoded      153 non-null    float64\n",
      " 32  enginelocation_encoded  153 non-null    float64\n",
      " 33  enginetype_encoded      153 non-null    float64\n",
      " 34  cylindernumber_encoded  153 non-null    float64\n",
      " 35  fuelsystem_encoded      153 non-null    float64\n",
      "dtypes: float64(18), int64(8), object(10)\n",
      "memory usage: 44.2+ KB\n"
     ]
    }
   ],
   "source": [
    "train_data.info()"
   ]
  },
  {
   "cell_type": "markdown",
   "id": "24a609fb",
   "metadata": {
    "papermill": {
     "duration": 0.007606,
     "end_time": "2024-11-12T07:40:54.728028",
     "exception": false,
     "start_time": "2024-11-12T07:40:54.720422",
     "status": "completed"
    },
    "tags": []
   },
   "source": [
    "## Drop categorical and target columns along with car_ID as its unique for each record"
   ]
  },
  {
   "cell_type": "code",
   "execution_count": 10,
   "id": "d2c6ecfb",
   "metadata": {
    "execution": {
     "iopub.execute_input": "2024-11-12T07:40:54.744984Z",
     "iopub.status.busy": "2024-11-12T07:40:54.744581Z",
     "iopub.status.idle": "2024-11-12T07:40:54.752675Z",
     "shell.execute_reply": "2024-11-12T07:40:54.751673Z"
    },
    "papermill": {
     "duration": 0.019234,
     "end_time": "2024-11-12T07:40:54.754851",
     "exception": false,
     "start_time": "2024-11-12T07:40:54.735617",
     "status": "completed"
    },
    "tags": []
   },
   "outputs": [],
   "source": [
    "\n",
    "train_data = train_data.drop(cat_cols, axis = 1)\n",
    "test_data = test_data.drop(cat_cols,axis = 1)\n",
    "\n",
    "X_train = train_data.drop(columns = [\"price\",\"car_ID\"], axis = 1)\n"
   ]
  },
  {
   "cell_type": "code",
   "execution_count": 11,
   "id": "7684738e",
   "metadata": {
    "execution": {
     "iopub.execute_input": "2024-11-12T07:40:54.772506Z",
     "iopub.status.busy": "2024-11-12T07:40:54.772092Z",
     "iopub.status.idle": "2024-11-12T07:40:54.778284Z",
     "shell.execute_reply": "2024-11-12T07:40:54.777224Z"
    },
    "papermill": {
     "duration": 0.017585,
     "end_time": "2024-11-12T07:40:54.780395",
     "exception": false,
     "start_time": "2024-11-12T07:40:54.762810",
     "status": "completed"
    },
    "tags": []
   },
   "outputs": [],
   "source": [
    "X_test = test_data.drop(columns = [\"price\",\"car_ID\"], axis = 1)"
   ]
  },
  {
   "cell_type": "markdown",
   "id": "e7125fd8",
   "metadata": {
    "papermill": {
     "duration": 0.007741,
     "end_time": "2024-11-12T07:40:54.796042",
     "exception": false,
     "start_time": "2024-11-12T07:40:54.788301",
     "status": "completed"
    },
    "tags": []
   },
   "source": [
    "## Check if all columns are numeric"
   ]
  },
  {
   "cell_type": "code",
   "execution_count": 12,
   "id": "4c086f6d",
   "metadata": {
    "execution": {
     "iopub.execute_input": "2024-11-12T07:40:54.813335Z",
     "iopub.status.busy": "2024-11-12T07:40:54.812910Z",
     "iopub.status.idle": "2024-11-12T07:40:54.825035Z",
     "shell.execute_reply": "2024-11-12T07:40:54.823981Z"
    },
    "papermill": {
     "duration": 0.023683,
     "end_time": "2024-11-12T07:40:54.827528",
     "exception": false,
     "start_time": "2024-11-12T07:40:54.803845",
     "status": "completed"
    },
    "tags": []
   },
   "outputs": [
    {
     "name": "stdout",
     "output_type": "stream",
     "text": [
      "<class 'pandas.core.frame.DataFrame'>\n",
      "Index: 153 entries, 90 to 102\n",
      "Data columns (total 26 columns):\n",
      " #   Column                  Non-Null Count  Dtype  \n",
      "---  ------                  --------------  -----  \n",
      " 0   car_ID                  153 non-null    int64  \n",
      " 1   symboling               153 non-null    int64  \n",
      " 2   wheelbase               153 non-null    float64\n",
      " 3   carlength               153 non-null    float64\n",
      " 4   carwidth                153 non-null    float64\n",
      " 5   carheight               153 non-null    float64\n",
      " 6   curbweight              153 non-null    int64  \n",
      " 7   enginesize              153 non-null    int64  \n",
      " 8   boreratio               153 non-null    float64\n",
      " 9   stroke                  153 non-null    float64\n",
      " 10  compressionratio        153 non-null    float64\n",
      " 11  horsepower              153 non-null    int64  \n",
      " 12  peakrpm                 153 non-null    int64  \n",
      " 13  citympg                 153 non-null    int64  \n",
      " 14  highwaympg              153 non-null    int64  \n",
      " 15  price                   153 non-null    float64\n",
      " 16  CarName_encoded         153 non-null    float64\n",
      " 17  fueltype_encoded        153 non-null    float64\n",
      " 18  aspiration_encoded      153 non-null    float64\n",
      " 19  doornumber_encoded      153 non-null    float64\n",
      " 20  carbody_encoded         153 non-null    float64\n",
      " 21  drivewheel_encoded      153 non-null    float64\n",
      " 22  enginelocation_encoded  153 non-null    float64\n",
      " 23  enginetype_encoded      153 non-null    float64\n",
      " 24  cylindernumber_encoded  153 non-null    float64\n",
      " 25  fuelsystem_encoded      153 non-null    float64\n",
      "dtypes: float64(18), int64(8)\n",
      "memory usage: 32.3 KB\n"
     ]
    }
   ],
   "source": [
    "train_data.info()"
   ]
  },
  {
   "cell_type": "markdown",
   "id": "08282709",
   "metadata": {
    "papermill": {
     "duration": 0.007679,
     "end_time": "2024-11-12T07:40:54.843323",
     "exception": false,
     "start_time": "2024-11-12T07:40:54.835644",
     "status": "completed"
    },
    "tags": []
   },
   "source": [
    "## XGBRegressor in predicting the prices"
   ]
  },
  {
   "cell_type": "code",
   "execution_count": 13,
   "id": "59a6afe4",
   "metadata": {
    "execution": {
     "iopub.execute_input": "2024-11-12T07:40:54.860787Z",
     "iopub.status.busy": "2024-11-12T07:40:54.860377Z",
     "iopub.status.idle": "2024-11-12T07:40:55.030689Z",
     "shell.execute_reply": "2024-11-12T07:40:55.029681Z"
    },
    "papermill": {
     "duration": 0.182109,
     "end_time": "2024-11-12T07:40:55.033324",
     "exception": false,
     "start_time": "2024-11-12T07:40:54.851215",
     "status": "completed"
    },
    "tags": []
   },
   "outputs": [],
   "source": [
    "from xgboost import XGBRegressor"
   ]
  },
  {
   "cell_type": "markdown",
   "id": "2148aaba",
   "metadata": {
    "papermill": {
     "duration": 0.007747,
     "end_time": "2024-11-12T07:40:55.049285",
     "exception": false,
     "start_time": "2024-11-12T07:40:55.041538",
     "status": "completed"
    },
    "tags": []
   },
   "source": [
    "## Base Model"
   ]
  },
  {
   "cell_type": "code",
   "execution_count": 14,
   "id": "ab7381ae",
   "metadata": {
    "execution": {
     "iopub.execute_input": "2024-11-12T07:40:55.067413Z",
     "iopub.status.busy": "2024-11-12T07:40:55.066466Z",
     "iopub.status.idle": "2024-11-12T07:40:55.210138Z",
     "shell.execute_reply": "2024-11-12T07:40:55.209136Z"
    },
    "papermill": {
     "duration": 0.15522,
     "end_time": "2024-11-12T07:40:55.212479",
     "exception": false,
     "start_time": "2024-11-12T07:40:55.057259",
     "status": "completed"
    },
    "tags": []
   },
   "outputs": [
    {
     "data": {
      "text/html": [
       "<style>#sk-container-id-1 {color: black;background-color: white;}#sk-container-id-1 pre{padding: 0;}#sk-container-id-1 div.sk-toggleable {background-color: white;}#sk-container-id-1 label.sk-toggleable__label {cursor: pointer;display: block;width: 100%;margin-bottom: 0;padding: 0.3em;box-sizing: border-box;text-align: center;}#sk-container-id-1 label.sk-toggleable__label-arrow:before {content: \"▸\";float: left;margin-right: 0.25em;color: #696969;}#sk-container-id-1 label.sk-toggleable__label-arrow:hover:before {color: black;}#sk-container-id-1 div.sk-estimator:hover label.sk-toggleable__label-arrow:before {color: black;}#sk-container-id-1 div.sk-toggleable__content {max-height: 0;max-width: 0;overflow: hidden;text-align: left;background-color: #f0f8ff;}#sk-container-id-1 div.sk-toggleable__content pre {margin: 0.2em;color: black;border-radius: 0.25em;background-color: #f0f8ff;}#sk-container-id-1 input.sk-toggleable__control:checked~div.sk-toggleable__content {max-height: 200px;max-width: 100%;overflow: auto;}#sk-container-id-1 input.sk-toggleable__control:checked~label.sk-toggleable__label-arrow:before {content: \"▾\";}#sk-container-id-1 div.sk-estimator input.sk-toggleable__control:checked~label.sk-toggleable__label {background-color: #d4ebff;}#sk-container-id-1 div.sk-label input.sk-toggleable__control:checked~label.sk-toggleable__label {background-color: #d4ebff;}#sk-container-id-1 input.sk-hidden--visually {border: 0;clip: rect(1px 1px 1px 1px);clip: rect(1px, 1px, 1px, 1px);height: 1px;margin: -1px;overflow: hidden;padding: 0;position: absolute;width: 1px;}#sk-container-id-1 div.sk-estimator {font-family: monospace;background-color: #f0f8ff;border: 1px dotted black;border-radius: 0.25em;box-sizing: border-box;margin-bottom: 0.5em;}#sk-container-id-1 div.sk-estimator:hover {background-color: #d4ebff;}#sk-container-id-1 div.sk-parallel-item::after {content: \"\";width: 100%;border-bottom: 1px solid gray;flex-grow: 1;}#sk-container-id-1 div.sk-label:hover label.sk-toggleable__label {background-color: #d4ebff;}#sk-container-id-1 div.sk-serial::before {content: \"\";position: absolute;border-left: 1px solid gray;box-sizing: border-box;top: 0;bottom: 0;left: 50%;z-index: 0;}#sk-container-id-1 div.sk-serial {display: flex;flex-direction: column;align-items: center;background-color: white;padding-right: 0.2em;padding-left: 0.2em;position: relative;}#sk-container-id-1 div.sk-item {position: relative;z-index: 1;}#sk-container-id-1 div.sk-parallel {display: flex;align-items: stretch;justify-content: center;background-color: white;position: relative;}#sk-container-id-1 div.sk-item::before, #sk-container-id-1 div.sk-parallel-item::before {content: \"\";position: absolute;border-left: 1px solid gray;box-sizing: border-box;top: 0;bottom: 0;left: 50%;z-index: -1;}#sk-container-id-1 div.sk-parallel-item {display: flex;flex-direction: column;z-index: 1;position: relative;background-color: white;}#sk-container-id-1 div.sk-parallel-item:first-child::after {align-self: flex-end;width: 50%;}#sk-container-id-1 div.sk-parallel-item:last-child::after {align-self: flex-start;width: 50%;}#sk-container-id-1 div.sk-parallel-item:only-child::after {width: 0;}#sk-container-id-1 div.sk-dashed-wrapped {border: 1px dashed gray;margin: 0 0.4em 0.5em 0.4em;box-sizing: border-box;padding-bottom: 0.4em;background-color: white;}#sk-container-id-1 div.sk-label label {font-family: monospace;font-weight: bold;display: inline-block;line-height: 1.2em;}#sk-container-id-1 div.sk-label-container {text-align: center;}#sk-container-id-1 div.sk-container {/* jupyter's `normalize.less` sets `[hidden] { display: none; }` but bootstrap.min.css set `[hidden] { display: none !important; }` so we also need the `!important` here to be able to override the default hidden behavior on the sphinx rendered scikit-learn.org. See: https://github.com/scikit-learn/scikit-learn/issues/21755 */display: inline-block !important;position: relative;}#sk-container-id-1 div.sk-text-repr-fallback {display: none;}</style><div id=\"sk-container-id-1\" class=\"sk-top-container\"><div class=\"sk-text-repr-fallback\"><pre>XGBRegressor(base_score=None, booster=None, callbacks=None,\n",
       "             colsample_bylevel=None, colsample_bynode=None,\n",
       "             colsample_bytree=None, device=None, early_stopping_rounds=None,\n",
       "             enable_categorical=False, eval_metric=None, feature_types=None,\n",
       "             gamma=None, grow_policy=None, importance_type=None,\n",
       "             interaction_constraints=None, learning_rate=None, max_bin=None,\n",
       "             max_cat_threshold=None, max_cat_to_onehot=None,\n",
       "             max_delta_step=None, max_depth=None, max_leaves=None,\n",
       "             min_child_weight=None, missing=nan, monotone_constraints=None,\n",
       "             multi_strategy=None, n_estimators=None, n_jobs=None,\n",
       "             num_parallel_tree=None, random_state=42, ...)</pre><b>In a Jupyter environment, please rerun this cell to show the HTML representation or trust the notebook. <br />On GitHub, the HTML representation is unable to render, please try loading this page with nbviewer.org.</b></div><div class=\"sk-container\" hidden><div class=\"sk-item\"><div class=\"sk-estimator sk-toggleable\"><input class=\"sk-toggleable__control sk-hidden--visually\" id=\"sk-estimator-id-1\" type=\"checkbox\" checked><label for=\"sk-estimator-id-1\" class=\"sk-toggleable__label sk-toggleable__label-arrow\">XGBRegressor</label><div class=\"sk-toggleable__content\"><pre>XGBRegressor(base_score=None, booster=None, callbacks=None,\n",
       "             colsample_bylevel=None, colsample_bynode=None,\n",
       "             colsample_bytree=None, device=None, early_stopping_rounds=None,\n",
       "             enable_categorical=False, eval_metric=None, feature_types=None,\n",
       "             gamma=None, grow_policy=None, importance_type=None,\n",
       "             interaction_constraints=None, learning_rate=None, max_bin=None,\n",
       "             max_cat_threshold=None, max_cat_to_onehot=None,\n",
       "             max_delta_step=None, max_depth=None, max_leaves=None,\n",
       "             min_child_weight=None, missing=nan, monotone_constraints=None,\n",
       "             multi_strategy=None, n_estimators=None, n_jobs=None,\n",
       "             num_parallel_tree=None, random_state=42, ...)</pre></div></div></div></div></div>"
      ],
      "text/plain": [
       "XGBRegressor(base_score=None, booster=None, callbacks=None,\n",
       "             colsample_bylevel=None, colsample_bynode=None,\n",
       "             colsample_bytree=None, device=None, early_stopping_rounds=None,\n",
       "             enable_categorical=False, eval_metric=None, feature_types=None,\n",
       "             gamma=None, grow_policy=None, importance_type=None,\n",
       "             interaction_constraints=None, learning_rate=None, max_bin=None,\n",
       "             max_cat_threshold=None, max_cat_to_onehot=None,\n",
       "             max_delta_step=None, max_depth=None, max_leaves=None,\n",
       "             min_child_weight=None, missing=nan, monotone_constraints=None,\n",
       "             multi_strategy=None, n_estimators=None, n_jobs=None,\n",
       "             num_parallel_tree=None, random_state=42, ...)"
      ]
     },
     "execution_count": 14,
     "metadata": {},
     "output_type": "execute_result"
    }
   ],
   "source": [
    "xgb = XGBRegressor(random_state = 42)\n",
    "xgb.fit(X_train, y_train)"
   ]
  },
  {
   "cell_type": "code",
   "execution_count": 15,
   "id": "7b8f55bc",
   "metadata": {
    "execution": {
     "iopub.execute_input": "2024-11-12T07:40:55.231247Z",
     "iopub.status.busy": "2024-11-12T07:40:55.230350Z",
     "iopub.status.idle": "2024-11-12T07:40:55.237131Z",
     "shell.execute_reply": "2024-11-12T07:40:55.236118Z"
    },
    "papermill": {
     "duration": 0.018317,
     "end_time": "2024-11-12T07:40:55.239095",
     "exception": false,
     "start_time": "2024-11-12T07:40:55.220778",
     "status": "completed"
    },
    "tags": []
   },
   "outputs": [],
   "source": [
    "\n",
    "# Predict on the test set\n",
    "from sklearn.metrics import mean_squared_error, mean_absolute_error, r2_score\n",
    "def model_stats(model = xgb, X_test = X_test, y_test = y_test):\n",
    "    y_pred = model.predict(X_test)\n",
    "    \n",
    "    # Calculate scores\n",
    "    mse = mean_squared_error(y_test, y_pred)\n",
    "    rmse = mean_squared_error(y_test, y_pred, squared=False)  # RMSE is the square root of MSE\n",
    "    mae = mean_absolute_error(y_test, y_pred)\n",
    "    r2 = r2_score(y_test, y_pred)\n",
    "    \n",
    "    print(\"Mean Squared Error (MSE):\", mse)\n",
    "    print(\"Root Mean Squared Error (RMSE):\", rmse)\n",
    "    print(\"Mean Absolute Error (MAE):\", mae)\n",
    "    print(\"R-squared (R2):\", r2)"
   ]
  },
  {
   "cell_type": "markdown",
   "id": "c0200be2",
   "metadata": {
    "execution": {
     "iopub.execute_input": "2024-11-12T06:52:23.106034Z",
     "iopub.status.busy": "2024-11-12T06:52:23.105556Z",
     "iopub.status.idle": "2024-11-12T06:52:23.113272Z",
     "shell.execute_reply": "2024-11-12T06:52:23.111742Z",
     "shell.execute_reply.started": "2024-11-12T06:52:23.105993Z"
    },
    "papermill": {
     "duration": 0.008279,
     "end_time": "2024-11-12T07:40:55.255952",
     "exception": false,
     "start_time": "2024-11-12T07:40:55.247673",
     "status": "completed"
    },
    "tags": []
   },
   "source": [
    "### Performance tuning the model\n",
    "    1. max_depth\n",
    "    2. n_estimators\n",
    "    3. colsample_bylevel\n",
    "    4. objective: reg:linear\n",
    "    5. learning_rate\n",
    "    6. gammea - Minimum reduction in loss at every split(post pruning regularication)"
   ]
  },
  {
   "cell_type": "markdown",
   "id": "2b80b703",
   "metadata": {
    "papermill": {
     "duration": 0.007821,
     "end_time": "2024-11-12T07:40:55.272043",
     "exception": false,
     "start_time": "2024-11-12T07:40:55.264222",
     "status": "completed"
    },
    "tags": []
   },
   "source": [
    "## Hyper Parameter Tuning with GridSearchCV"
   ]
  },
  {
   "cell_type": "code",
   "execution_count": 16,
   "id": "f96726a2",
   "metadata": {
    "execution": {
     "iopub.execute_input": "2024-11-12T07:40:55.290258Z",
     "iopub.status.busy": "2024-11-12T07:40:55.289348Z",
     "iopub.status.idle": "2024-11-12T07:41:01.489595Z",
     "shell.execute_reply": "2024-11-12T07:41:01.488558Z"
    },
    "papermill": {
     "duration": 6.211858,
     "end_time": "2024-11-12T07:41:01.491901",
     "exception": false,
     "start_time": "2024-11-12T07:40:55.280043",
     "status": "completed"
    },
    "tags": []
   },
   "outputs": [
    {
     "name": "stdout",
     "output_type": "stream",
     "text": [
      "Fitting 5 folds for each of 16 candidates, totalling 80 fits\n",
      "Best Parameters: {'colsample_bytree': 0.8, 'learning_rate': 0.1, 'max_depth': 5, 'n_estimators': 100}\n",
      "Best RMSE Score: 2694.920250990446\n"
     ]
    }
   ],
   "source": [
    "\n",
    "from sklearn.model_selection import GridSearchCV\n",
    "from sklearn.metrics import make_scorer, mean_squared_error\n",
    "\n",
    "# Parameter grid for grid search\n",
    "param_grid = {\n",
    "    'n_estimators': [100, 200],           # Number of boosting rounds\n",
    "    'learning_rate': [0.01,0.1],          # Step size\n",
    "    'max_depth': [5, 7],                  # Tree depth\n",
    "    'colsample_bytree': [0.8, 1.0],       # Feature ratio per tree\n",
    "}\n",
    "\n",
    "# Set up GridSearchCV with 5-fold cross-validation\n",
    "grid_search = GridSearchCV(\n",
    "    estimator=xgb,\n",
    "    param_grid=param_grid,\n",
    "    scoring='neg_root_mean_squared_error',    # RMSE as the scoring metric\n",
    "    cv=5,                                     # 5-fold cross-validation\n",
    "    verbose=1,\n",
    "    n_jobs=-1                                # Use all CPU cores\n",
    ")\n",
    "\n",
    "# Fit grid search\n",
    "grid_search.fit(X_train, y_train)\n",
    "\n",
    "# Best parameters and score\n",
    "best_params = grid_search.best_params_\n",
    "best_score = -grid_search.best_score_  # Convert back to positive RMSE\n",
    "print(\"Best Parameters:\", best_params)\n",
    "print(\"Best RMSE Score:\", best_score)\n"
   ]
  },
  {
   "cell_type": "code",
   "execution_count": 17,
   "id": "72139a77",
   "metadata": {
    "execution": {
     "iopub.execute_input": "2024-11-12T07:41:01.510181Z",
     "iopub.status.busy": "2024-11-12T07:41:01.509797Z",
     "iopub.status.idle": "2024-11-12T07:41:01.587091Z",
     "shell.execute_reply": "2024-11-12T07:41:01.586058Z"
    },
    "papermill": {
     "duration": 0.089047,
     "end_time": "2024-11-12T07:41:01.589440",
     "exception": false,
     "start_time": "2024-11-12T07:41:01.500393",
     "status": "completed"
    },
    "tags": []
   },
   "outputs": [
    {
     "data": {
      "text/html": [
       "<style>#sk-container-id-2 {color: black;background-color: white;}#sk-container-id-2 pre{padding: 0;}#sk-container-id-2 div.sk-toggleable {background-color: white;}#sk-container-id-2 label.sk-toggleable__label {cursor: pointer;display: block;width: 100%;margin-bottom: 0;padding: 0.3em;box-sizing: border-box;text-align: center;}#sk-container-id-2 label.sk-toggleable__label-arrow:before {content: \"▸\";float: left;margin-right: 0.25em;color: #696969;}#sk-container-id-2 label.sk-toggleable__label-arrow:hover:before {color: black;}#sk-container-id-2 div.sk-estimator:hover label.sk-toggleable__label-arrow:before {color: black;}#sk-container-id-2 div.sk-toggleable__content {max-height: 0;max-width: 0;overflow: hidden;text-align: left;background-color: #f0f8ff;}#sk-container-id-2 div.sk-toggleable__content pre {margin: 0.2em;color: black;border-radius: 0.25em;background-color: #f0f8ff;}#sk-container-id-2 input.sk-toggleable__control:checked~div.sk-toggleable__content {max-height: 200px;max-width: 100%;overflow: auto;}#sk-container-id-2 input.sk-toggleable__control:checked~label.sk-toggleable__label-arrow:before {content: \"▾\";}#sk-container-id-2 div.sk-estimator input.sk-toggleable__control:checked~label.sk-toggleable__label {background-color: #d4ebff;}#sk-container-id-2 div.sk-label input.sk-toggleable__control:checked~label.sk-toggleable__label {background-color: #d4ebff;}#sk-container-id-2 input.sk-hidden--visually {border: 0;clip: rect(1px 1px 1px 1px);clip: rect(1px, 1px, 1px, 1px);height: 1px;margin: -1px;overflow: hidden;padding: 0;position: absolute;width: 1px;}#sk-container-id-2 div.sk-estimator {font-family: monospace;background-color: #f0f8ff;border: 1px dotted black;border-radius: 0.25em;box-sizing: border-box;margin-bottom: 0.5em;}#sk-container-id-2 div.sk-estimator:hover {background-color: #d4ebff;}#sk-container-id-2 div.sk-parallel-item::after {content: \"\";width: 100%;border-bottom: 1px solid gray;flex-grow: 1;}#sk-container-id-2 div.sk-label:hover label.sk-toggleable__label {background-color: #d4ebff;}#sk-container-id-2 div.sk-serial::before {content: \"\";position: absolute;border-left: 1px solid gray;box-sizing: border-box;top: 0;bottom: 0;left: 50%;z-index: 0;}#sk-container-id-2 div.sk-serial {display: flex;flex-direction: column;align-items: center;background-color: white;padding-right: 0.2em;padding-left: 0.2em;position: relative;}#sk-container-id-2 div.sk-item {position: relative;z-index: 1;}#sk-container-id-2 div.sk-parallel {display: flex;align-items: stretch;justify-content: center;background-color: white;position: relative;}#sk-container-id-2 div.sk-item::before, #sk-container-id-2 div.sk-parallel-item::before {content: \"\";position: absolute;border-left: 1px solid gray;box-sizing: border-box;top: 0;bottom: 0;left: 50%;z-index: -1;}#sk-container-id-2 div.sk-parallel-item {display: flex;flex-direction: column;z-index: 1;position: relative;background-color: white;}#sk-container-id-2 div.sk-parallel-item:first-child::after {align-self: flex-end;width: 50%;}#sk-container-id-2 div.sk-parallel-item:last-child::after {align-self: flex-start;width: 50%;}#sk-container-id-2 div.sk-parallel-item:only-child::after {width: 0;}#sk-container-id-2 div.sk-dashed-wrapped {border: 1px dashed gray;margin: 0 0.4em 0.5em 0.4em;box-sizing: border-box;padding-bottom: 0.4em;background-color: white;}#sk-container-id-2 div.sk-label label {font-family: monospace;font-weight: bold;display: inline-block;line-height: 1.2em;}#sk-container-id-2 div.sk-label-container {text-align: center;}#sk-container-id-2 div.sk-container {/* jupyter's `normalize.less` sets `[hidden] { display: none; }` but bootstrap.min.css set `[hidden] { display: none !important; }` so we also need the `!important` here to be able to override the default hidden behavior on the sphinx rendered scikit-learn.org. See: https://github.com/scikit-learn/scikit-learn/issues/21755 */display: inline-block !important;position: relative;}#sk-container-id-2 div.sk-text-repr-fallback {display: none;}</style><div id=\"sk-container-id-2\" class=\"sk-top-container\"><div class=\"sk-text-repr-fallback\"><pre>XGBRegressor(base_score=None, booster=None, callbacks=None,\n",
       "             colsample_bylevel=None, colsample_bynode=None,\n",
       "             colsample_bytree=0.8, device=None, early_stopping_rounds=None,\n",
       "             enable_categorical=False, eval_metric=None, feature_types=None,\n",
       "             gamma=None, grow_policy=None, importance_type=None,\n",
       "             interaction_constraints=None, learning_rate=0.1, max_bin=None,\n",
       "             max_cat_threshold=None, max_cat_to_onehot=None,\n",
       "             max_delta_step=None, max_depth=5, max_leaves=None,\n",
       "             min_child_weight=None, missing=nan, monotone_constraints=None,\n",
       "             multi_strategy=None, n_estimators=100, n_jobs=None,\n",
       "             num_parallel_tree=None, random_state=None, ...)</pre><b>In a Jupyter environment, please rerun this cell to show the HTML representation or trust the notebook. <br />On GitHub, the HTML representation is unable to render, please try loading this page with nbviewer.org.</b></div><div class=\"sk-container\" hidden><div class=\"sk-item\"><div class=\"sk-estimator sk-toggleable\"><input class=\"sk-toggleable__control sk-hidden--visually\" id=\"sk-estimator-id-2\" type=\"checkbox\" checked><label for=\"sk-estimator-id-2\" class=\"sk-toggleable__label sk-toggleable__label-arrow\">XGBRegressor</label><div class=\"sk-toggleable__content\"><pre>XGBRegressor(base_score=None, booster=None, callbacks=None,\n",
       "             colsample_bylevel=None, colsample_bynode=None,\n",
       "             colsample_bytree=0.8, device=None, early_stopping_rounds=None,\n",
       "             enable_categorical=False, eval_metric=None, feature_types=None,\n",
       "             gamma=None, grow_policy=None, importance_type=None,\n",
       "             interaction_constraints=None, learning_rate=0.1, max_bin=None,\n",
       "             max_cat_threshold=None, max_cat_to_onehot=None,\n",
       "             max_delta_step=None, max_depth=5, max_leaves=None,\n",
       "             min_child_weight=None, missing=nan, monotone_constraints=None,\n",
       "             multi_strategy=None, n_estimators=100, n_jobs=None,\n",
       "             num_parallel_tree=None, random_state=None, ...)</pre></div></div></div></div></div>"
      ],
      "text/plain": [
       "XGBRegressor(base_score=None, booster=None, callbacks=None,\n",
       "             colsample_bylevel=None, colsample_bynode=None,\n",
       "             colsample_bytree=0.8, device=None, early_stopping_rounds=None,\n",
       "             enable_categorical=False, eval_metric=None, feature_types=None,\n",
       "             gamma=None, grow_policy=None, importance_type=None,\n",
       "             interaction_constraints=None, learning_rate=0.1, max_bin=None,\n",
       "             max_cat_threshold=None, max_cat_to_onehot=None,\n",
       "             max_delta_step=None, max_depth=5, max_leaves=None,\n",
       "             min_child_weight=None, missing=nan, monotone_constraints=None,\n",
       "             multi_strategy=None, n_estimators=100, n_jobs=None,\n",
       "             num_parallel_tree=None, random_state=None, ...)"
      ]
     },
     "execution_count": 17,
     "metadata": {},
     "output_type": "execute_result"
    }
   ],
   "source": [
    "xgb_tuned = XGBRegressor(colsample_bytree= 0.8, learning_rate= 0.1, max_depth= 5, n_estimators = 100)\n",
    "xgb_tuned.fit(X_train, y_train)\n"
   ]
  },
  {
   "cell_type": "code",
   "execution_count": 18,
   "id": "9039a66d",
   "metadata": {
    "execution": {
     "iopub.execute_input": "2024-11-12T07:41:01.608113Z",
     "iopub.status.busy": "2024-11-12T07:41:01.607755Z",
     "iopub.status.idle": "2024-11-12T07:41:01.620861Z",
     "shell.execute_reply": "2024-11-12T07:41:01.620113Z"
    },
    "papermill": {
     "duration": 0.02591,
     "end_time": "2024-11-12T07:41:01.624123",
     "exception": false,
     "start_time": "2024-11-12T07:41:01.598213",
     "status": "completed"
    },
    "tags": []
   },
   "outputs": [
    {
     "name": "stdout",
     "output_type": "stream",
     "text": [
      "Mean Squared Error (MSE): 6070784.33722204\n",
      "Root Mean Squared Error (RMSE): 2463.896170138271\n",
      "Mean Absolute Error (MAE): 1599.7511454326923\n",
      "R-squared (R2): 0.910274521271715\n"
     ]
    }
   ],
   "source": [
    "model_stats(model = xgb)"
   ]
  },
  {
   "cell_type": "code",
   "execution_count": 19,
   "id": "14b8386e",
   "metadata": {
    "execution": {
     "iopub.execute_input": "2024-11-12T07:41:01.642409Z",
     "iopub.status.busy": "2024-11-12T07:41:01.642067Z",
     "iopub.status.idle": "2024-11-12T07:41:01.653396Z",
     "shell.execute_reply": "2024-11-12T07:41:01.652645Z"
    },
    "papermill": {
     "duration": 0.024863,
     "end_time": "2024-11-12T07:41:01.657469",
     "exception": false,
     "start_time": "2024-11-12T07:41:01.632606",
     "status": "completed"
    },
    "tags": []
   },
   "outputs": [
    {
     "name": "stdout",
     "output_type": "stream",
     "text": [
      "Mean Squared Error (MSE): 5257333.037462859\n",
      "Root Mean Squared Error (RMSE): 2292.8874890545458\n",
      "Mean Absolute Error (MAE): 1528.5063756760817\n",
      "R-squared (R2): 0.9222972358401651\n"
     ]
    }
   ],
   "source": [
    "model_stats(model = xgb_tuned)"
   ]
  },
  {
   "cell_type": "markdown",
   "id": "d64cf67d",
   "metadata": {
    "papermill": {
     "duration": 0.008227,
     "end_time": "2024-11-12T07:41:01.674227",
     "exception": false,
     "start_time": "2024-11-12T07:41:01.666000",
     "status": "completed"
    },
    "tags": []
   },
   "source": [
    "### The tuned model reduced the error metrics and improved r2 score\n",
    "### Note: XGBRegressor default uses squared error as objective"
   ]
  },
  {
   "cell_type": "markdown",
   "id": "5011b197",
   "metadata": {
    "papermill": {
     "duration": 0.008246,
     "end_time": "2024-11-12T07:41:01.691024",
     "exception": false,
     "start_time": "2024-11-12T07:41:01.682778",
     "status": "completed"
    },
    "tags": []
   },
   "source": [
    "## Linear regression"
   ]
  },
  {
   "cell_type": "code",
   "execution_count": 20,
   "id": "d3f01cb1",
   "metadata": {
    "execution": {
     "iopub.execute_input": "2024-11-12T07:41:01.709545Z",
     "iopub.status.busy": "2024-11-12T07:41:01.709165Z",
     "iopub.status.idle": "2024-11-12T07:41:01.831234Z",
     "shell.execute_reply": "2024-11-12T07:41:01.830227Z"
    },
    "papermill": {
     "duration": 0.133937,
     "end_time": "2024-11-12T07:41:01.833417",
     "exception": false,
     "start_time": "2024-11-12T07:41:01.699480",
     "status": "completed"
    },
    "tags": []
   },
   "outputs": [
    {
     "data": {
      "text/html": [
       "<style>#sk-container-id-3 {color: black;background-color: white;}#sk-container-id-3 pre{padding: 0;}#sk-container-id-3 div.sk-toggleable {background-color: white;}#sk-container-id-3 label.sk-toggleable__label {cursor: pointer;display: block;width: 100%;margin-bottom: 0;padding: 0.3em;box-sizing: border-box;text-align: center;}#sk-container-id-3 label.sk-toggleable__label-arrow:before {content: \"▸\";float: left;margin-right: 0.25em;color: #696969;}#sk-container-id-3 label.sk-toggleable__label-arrow:hover:before {color: black;}#sk-container-id-3 div.sk-estimator:hover label.sk-toggleable__label-arrow:before {color: black;}#sk-container-id-3 div.sk-toggleable__content {max-height: 0;max-width: 0;overflow: hidden;text-align: left;background-color: #f0f8ff;}#sk-container-id-3 div.sk-toggleable__content pre {margin: 0.2em;color: black;border-radius: 0.25em;background-color: #f0f8ff;}#sk-container-id-3 input.sk-toggleable__control:checked~div.sk-toggleable__content {max-height: 200px;max-width: 100%;overflow: auto;}#sk-container-id-3 input.sk-toggleable__control:checked~label.sk-toggleable__label-arrow:before {content: \"▾\";}#sk-container-id-3 div.sk-estimator input.sk-toggleable__control:checked~label.sk-toggleable__label {background-color: #d4ebff;}#sk-container-id-3 div.sk-label input.sk-toggleable__control:checked~label.sk-toggleable__label {background-color: #d4ebff;}#sk-container-id-3 input.sk-hidden--visually {border: 0;clip: rect(1px 1px 1px 1px);clip: rect(1px, 1px, 1px, 1px);height: 1px;margin: -1px;overflow: hidden;padding: 0;position: absolute;width: 1px;}#sk-container-id-3 div.sk-estimator {font-family: monospace;background-color: #f0f8ff;border: 1px dotted black;border-radius: 0.25em;box-sizing: border-box;margin-bottom: 0.5em;}#sk-container-id-3 div.sk-estimator:hover {background-color: #d4ebff;}#sk-container-id-3 div.sk-parallel-item::after {content: \"\";width: 100%;border-bottom: 1px solid gray;flex-grow: 1;}#sk-container-id-3 div.sk-label:hover label.sk-toggleable__label {background-color: #d4ebff;}#sk-container-id-3 div.sk-serial::before {content: \"\";position: absolute;border-left: 1px solid gray;box-sizing: border-box;top: 0;bottom: 0;left: 50%;z-index: 0;}#sk-container-id-3 div.sk-serial {display: flex;flex-direction: column;align-items: center;background-color: white;padding-right: 0.2em;padding-left: 0.2em;position: relative;}#sk-container-id-3 div.sk-item {position: relative;z-index: 1;}#sk-container-id-3 div.sk-parallel {display: flex;align-items: stretch;justify-content: center;background-color: white;position: relative;}#sk-container-id-3 div.sk-item::before, #sk-container-id-3 div.sk-parallel-item::before {content: \"\";position: absolute;border-left: 1px solid gray;box-sizing: border-box;top: 0;bottom: 0;left: 50%;z-index: -1;}#sk-container-id-3 div.sk-parallel-item {display: flex;flex-direction: column;z-index: 1;position: relative;background-color: white;}#sk-container-id-3 div.sk-parallel-item:first-child::after {align-self: flex-end;width: 50%;}#sk-container-id-3 div.sk-parallel-item:last-child::after {align-self: flex-start;width: 50%;}#sk-container-id-3 div.sk-parallel-item:only-child::after {width: 0;}#sk-container-id-3 div.sk-dashed-wrapped {border: 1px dashed gray;margin: 0 0.4em 0.5em 0.4em;box-sizing: border-box;padding-bottom: 0.4em;background-color: white;}#sk-container-id-3 div.sk-label label {font-family: monospace;font-weight: bold;display: inline-block;line-height: 1.2em;}#sk-container-id-3 div.sk-label-container {text-align: center;}#sk-container-id-3 div.sk-container {/* jupyter's `normalize.less` sets `[hidden] { display: none; }` but bootstrap.min.css set `[hidden] { display: none !important; }` so we also need the `!important` here to be able to override the default hidden behavior on the sphinx rendered scikit-learn.org. See: https://github.com/scikit-learn/scikit-learn/issues/21755 */display: inline-block !important;position: relative;}#sk-container-id-3 div.sk-text-repr-fallback {display: none;}</style><div id=\"sk-container-id-3\" class=\"sk-top-container\"><div class=\"sk-text-repr-fallback\"><pre>LinearRegression()</pre><b>In a Jupyter environment, please rerun this cell to show the HTML representation or trust the notebook. <br />On GitHub, the HTML representation is unable to render, please try loading this page with nbviewer.org.</b></div><div class=\"sk-container\" hidden><div class=\"sk-item\"><div class=\"sk-estimator sk-toggleable\"><input class=\"sk-toggleable__control sk-hidden--visually\" id=\"sk-estimator-id-3\" type=\"checkbox\" checked><label for=\"sk-estimator-id-3\" class=\"sk-toggleable__label sk-toggleable__label-arrow\">LinearRegression</label><div class=\"sk-toggleable__content\"><pre>LinearRegression()</pre></div></div></div></div></div>"
      ],
      "text/plain": [
       "LinearRegression()"
      ]
     },
     "execution_count": 20,
     "metadata": {},
     "output_type": "execute_result"
    }
   ],
   "source": [
    "from sklearn.linear_model import LinearRegression\n",
    "lin_reg = LinearRegression()\n",
    "lin_reg.fit(X_train, y_train)"
   ]
  },
  {
   "cell_type": "code",
   "execution_count": 21,
   "id": "65ccb5cc",
   "metadata": {
    "execution": {
     "iopub.execute_input": "2024-11-12T07:41:01.852475Z",
     "iopub.status.busy": "2024-11-12T07:41:01.852104Z",
     "iopub.status.idle": "2024-11-12T07:41:01.861984Z",
     "shell.execute_reply": "2024-11-12T07:41:01.860831Z"
    },
    "papermill": {
     "duration": 0.021585,
     "end_time": "2024-11-12T07:41:01.863993",
     "exception": false,
     "start_time": "2024-11-12T07:41:01.842408",
     "status": "completed"
    },
    "tags": []
   },
   "outputs": [
    {
     "name": "stdout",
     "output_type": "stream",
     "text": [
      "Mean Squared Error (MSE): 9284054.436379153\n",
      "Root Mean Squared Error (RMSE): 3046.974636648483\n",
      "Mean Absolute Error (MAE): 1941.79641743262\n",
      "R-squared (R2): 0.8627827670081982\n"
     ]
    }
   ],
   "source": [
    "model_stats(model = lin_reg)"
   ]
  },
  {
   "cell_type": "code",
   "execution_count": null,
   "id": "fbeabbff",
   "metadata": {
    "papermill": {
     "duration": 0.008833,
     "end_time": "2024-11-12T07:41:01.881956",
     "exception": false,
     "start_time": "2024-11-12T07:41:01.873123",
     "status": "completed"
    },
    "tags": []
   },
   "outputs": [],
   "source": []
  }
 ],
 "metadata": {
  "kaggle": {
   "accelerator": "none",
   "dataSources": [
    {
     "datasetId": 383055,
     "sourceId": 741735,
     "sourceType": "datasetVersion"
    }
   ],
   "dockerImageVersionId": 30786,
   "isGpuEnabled": false,
   "isInternetEnabled": true,
   "language": "python",
   "sourceType": "notebook"
  },
  "kernelspec": {
   "display_name": "Python 3",
   "language": "python",
   "name": "python3"
  },
  "language_info": {
   "codemirror_mode": {
    "name": "ipython",
    "version": 3
   },
   "file_extension": ".py",
   "mimetype": "text/x-python",
   "name": "python",
   "nbconvert_exporter": "python",
   "pygments_lexer": "ipython3",
   "version": "3.10.14"
  },
  "papermill": {
   "default_parameters": {},
   "duration": 14.712245,
   "end_time": "2024-11-12T07:41:04.511080",
   "environment_variables": {},
   "exception": null,
   "input_path": "__notebook__.ipynb",
   "output_path": "__notebook__.ipynb",
   "parameters": {},
   "start_time": "2024-11-12T07:40:49.798835",
   "version": "2.6.0"
  }
 },
 "nbformat": 4,
 "nbformat_minor": 5
}
