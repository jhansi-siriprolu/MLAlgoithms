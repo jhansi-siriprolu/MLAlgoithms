{
 "cells": [
  {
   "cell_type": "code",
   "execution_count": 75,
   "metadata": {
    "_cell_guid": "b1076dfc-b9ad-4769-8c92-a6c4dae69d19",
    "_uuid": "8f2839f25d086af736a60e9eeb907d3b93b6e0e5",
    "execution": {
     "iopub.execute_input": "2024-11-07T18:08:54.236330Z",
     "iopub.status.busy": "2024-11-07T18:08:54.235793Z",
     "iopub.status.idle": "2024-11-07T18:08:54.247212Z",
     "shell.execute_reply": "2024-11-07T18:08:54.245921Z",
     "shell.execute_reply.started": "2024-11-07T18:08:54.236288Z"
    },
    "trusted": true
   },
   "outputs": [
    {
     "name": "stdout",
     "output_type": "stream",
     "text": [
      "/kaggle/input/heart-disease-dataset/heart.csv\n"
     ]
    }
   ],
   "source": [
    "# This Python 3 environment comes with many helpful analytics libraries installed\n",
    "# It is defined by the kaggle/python Docker image: https://github.com/kaggle/docker-python\n",
    "# For example, here's several helpful packages to load\n",
    "\n",
    "import numpy as np # linear algebra\n",
    "import pandas as pd # data processing, CSV file I/O (e.g. pd.read_csv)\n",
    "\n",
    "# Input data files are available in the read-only \"../input/\" directory\n",
    "# For example, running this (by clicking run or pressing Shift+Enter) will list all files under the input directory\n",
    "\n",
    "import os\n",
    "for dirname, _, filenames in os.walk('/kaggle/input'):\n",
    "    for filename in filenames:\n",
    "        print(os.path.join(dirname, filename))\n",
    "\n",
    "# You can write up to 20GB to the current directory (/kaggle/working/) that gets preserved as output when you create a version using \"Save & Run All\" \n",
    "# You can also write temporary files to /kaggle/temp/, but they won't be saved outside of the current session"
   ]
  },
  {
   "cell_type": "markdown",
   "metadata": {},
   "source": [
    "# <span style=\"color:lightblue;\">**Binary Classification with XGBoost**</span>\n",
    "\n",
    "---\n",
    "\n",
    "In this notebook, we will dive into the **XGBoost** algorithm, demonstrating why its time complexity often outperforms the **Random Forest Classifier** on certain datasets. **XGBoost**, short for *Extreme Gradient Boosting*, combines boosting for reducing misclassification with gradient-based optimization. We will apply **XGBoostClassifier** to a binary classification task to showcase its effectiveness."
   ]
  },
  {
   "cell_type": "markdown",
   "metadata": {},
   "source": [
    "**Table of contents**\n",
    "1. [Import Libraries](#Import-Libraries)\n",
    "2. Load Heart disease dataset(#Load-Dataset)\n",
    "3. Train XGBClassifer\n",
    "4. Evaluation of XGBClassifier\n",
    "5. Comparision with RandomForestClassifier"
   ]
  },
  {
   "cell_type": "markdown",
   "metadata": {},
   "source": [
    "# Import Libraries"
   ]
  },
  {
   "cell_type": "code",
   "execution_count": 76,
   "metadata": {
    "execution": {
     "iopub.execute_input": "2024-11-07T18:08:54.249524Z",
     "iopub.status.busy": "2024-11-07T18:08:54.249145Z",
     "iopub.status.idle": "2024-11-07T18:08:54.261110Z",
     "shell.execute_reply": "2024-11-07T18:08:54.259959Z",
     "shell.execute_reply.started": "2024-11-07T18:08:54.249486Z"
    },
    "trusted": true
   },
   "outputs": [],
   "source": [
    "\n",
    "import numpy as np\n",
    "import pandas as pd\n",
    "from xgboost import XGBClassifier\n",
    "from sklearn.model_selection import train_test_split\n",
    "from sklearn.metrics import accuracy_score, classification_report, confusion_matrix\n",
    "import time"
   ]
  },
  {
   "cell_type": "markdown",
   "metadata": {},
   "source": [
    "# Load Dataset"
   ]
  },
  {
   "cell_type": "code",
   "execution_count": 77,
   "metadata": {
    "execution": {
     "iopub.execute_input": "2024-11-07T18:08:54.280249Z",
     "iopub.status.busy": "2024-11-07T18:08:54.279773Z",
     "iopub.status.idle": "2024-11-07T18:08:54.301122Z",
     "shell.execute_reply": "2024-11-07T18:08:54.299811Z",
     "shell.execute_reply.started": "2024-11-07T18:08:54.280206Z"
    },
    "trusted": true
   },
   "outputs": [
    {
     "data": {
      "text/html": [
       "<div>\n",
       "<style scoped>\n",
       "    .dataframe tbody tr th:only-of-type {\n",
       "        vertical-align: middle;\n",
       "    }\n",
       "\n",
       "    .dataframe tbody tr th {\n",
       "        vertical-align: top;\n",
       "    }\n",
       "\n",
       "    .dataframe thead th {\n",
       "        text-align: right;\n",
       "    }\n",
       "</style>\n",
       "<table border=\"1\" class=\"dataframe\">\n",
       "  <thead>\n",
       "    <tr style=\"text-align: right;\">\n",
       "      <th></th>\n",
       "      <th>age</th>\n",
       "      <th>sex</th>\n",
       "      <th>cp</th>\n",
       "      <th>trestbps</th>\n",
       "      <th>chol</th>\n",
       "      <th>fbs</th>\n",
       "      <th>restecg</th>\n",
       "      <th>thalach</th>\n",
       "      <th>exang</th>\n",
       "      <th>oldpeak</th>\n",
       "      <th>slope</th>\n",
       "      <th>ca</th>\n",
       "      <th>thal</th>\n",
       "      <th>target</th>\n",
       "    </tr>\n",
       "  </thead>\n",
       "  <tbody>\n",
       "    <tr>\n",
       "      <th>0</th>\n",
       "      <td>52</td>\n",
       "      <td>1</td>\n",
       "      <td>0</td>\n",
       "      <td>125</td>\n",
       "      <td>212</td>\n",
       "      <td>0</td>\n",
       "      <td>1</td>\n",
       "      <td>168</td>\n",
       "      <td>0</td>\n",
       "      <td>1.0</td>\n",
       "      <td>2</td>\n",
       "      <td>2</td>\n",
       "      <td>3</td>\n",
       "      <td>0</td>\n",
       "    </tr>\n",
       "    <tr>\n",
       "      <th>1</th>\n",
       "      <td>53</td>\n",
       "      <td>1</td>\n",
       "      <td>0</td>\n",
       "      <td>140</td>\n",
       "      <td>203</td>\n",
       "      <td>1</td>\n",
       "      <td>0</td>\n",
       "      <td>155</td>\n",
       "      <td>1</td>\n",
       "      <td>3.1</td>\n",
       "      <td>0</td>\n",
       "      <td>0</td>\n",
       "      <td>3</td>\n",
       "      <td>0</td>\n",
       "    </tr>\n",
       "    <tr>\n",
       "      <th>2</th>\n",
       "      <td>70</td>\n",
       "      <td>1</td>\n",
       "      <td>0</td>\n",
       "      <td>145</td>\n",
       "      <td>174</td>\n",
       "      <td>0</td>\n",
       "      <td>1</td>\n",
       "      <td>125</td>\n",
       "      <td>1</td>\n",
       "      <td>2.6</td>\n",
       "      <td>0</td>\n",
       "      <td>0</td>\n",
       "      <td>3</td>\n",
       "      <td>0</td>\n",
       "    </tr>\n",
       "    <tr>\n",
       "      <th>3</th>\n",
       "      <td>61</td>\n",
       "      <td>1</td>\n",
       "      <td>0</td>\n",
       "      <td>148</td>\n",
       "      <td>203</td>\n",
       "      <td>0</td>\n",
       "      <td>1</td>\n",
       "      <td>161</td>\n",
       "      <td>0</td>\n",
       "      <td>0.0</td>\n",
       "      <td>2</td>\n",
       "      <td>1</td>\n",
       "      <td>3</td>\n",
       "      <td>0</td>\n",
       "    </tr>\n",
       "    <tr>\n",
       "      <th>4</th>\n",
       "      <td>62</td>\n",
       "      <td>0</td>\n",
       "      <td>0</td>\n",
       "      <td>138</td>\n",
       "      <td>294</td>\n",
       "      <td>1</td>\n",
       "      <td>1</td>\n",
       "      <td>106</td>\n",
       "      <td>0</td>\n",
       "      <td>1.9</td>\n",
       "      <td>1</td>\n",
       "      <td>3</td>\n",
       "      <td>2</td>\n",
       "      <td>0</td>\n",
       "    </tr>\n",
       "  </tbody>\n",
       "</table>\n",
       "</div>"
      ],
      "text/plain": [
       "   age  sex  cp  trestbps  chol  fbs  restecg  thalach  exang  oldpeak  slope  \\\n",
       "0   52    1   0       125   212    0        1      168      0      1.0      2   \n",
       "1   53    1   0       140   203    1        0      155      1      3.1      0   \n",
       "2   70    1   0       145   174    0        1      125      1      2.6      0   \n",
       "3   61    1   0       148   203    0        1      161      0      0.0      2   \n",
       "4   62    0   0       138   294    1        1      106      0      1.9      1   \n",
       "\n",
       "   ca  thal  target  \n",
       "0   2     3       0  \n",
       "1   0     3       0  \n",
       "2   0     3       0  \n",
       "3   1     3       0  \n",
       "4   3     2       0  "
      ]
     },
     "execution_count": 77,
     "metadata": {},
     "output_type": "execute_result"
    }
   ],
   "source": [
    "df = pd.read_csv(\"/kaggle/input/heart-disease-dataset/heart.csv\")\n",
    "df.head()"
   ]
  },
  {
   "cell_type": "code",
   "execution_count": 78,
   "metadata": {
    "execution": {
     "iopub.execute_input": "2024-11-07T18:08:54.303962Z",
     "iopub.status.busy": "2024-11-07T18:08:54.303442Z",
     "iopub.status.idle": "2024-11-07T18:08:54.310714Z",
     "shell.execute_reply": "2024-11-07T18:08:54.309431Z",
     "shell.execute_reply.started": "2024-11-07T18:08:54.303909Z"
    },
    "trusted": true
   },
   "outputs": [],
   "source": [
    "X = df.drop(\"target\", axis = 1)\n",
    "y = df[\"target\"]"
   ]
  },
  {
   "cell_type": "markdown",
   "metadata": {
    "execution": {
     "iopub.execute_input": "2024-11-07T17:04:57.676818Z",
     "iopub.status.busy": "2024-11-07T17:04:57.676380Z",
     "iopub.status.idle": "2024-11-07T17:04:57.692592Z",
     "shell.execute_reply": "2024-11-07T17:04:57.691346Z",
     "shell.execute_reply.started": "2024-11-07T17:04:57.676780Z"
    }
   },
   "source": [
    "df[\"target\"].value_counts()"
   ]
  },
  {
   "cell_type": "code",
   "execution_count": 79,
   "metadata": {
    "execution": {
     "iopub.execute_input": "2024-11-07T18:08:54.313279Z",
     "iopub.status.busy": "2024-11-07T18:08:54.312217Z",
     "iopub.status.idle": "2024-11-07T18:08:54.325952Z",
     "shell.execute_reply": "2024-11-07T18:08:54.324628Z",
     "shell.execute_reply.started": "2024-11-07T18:08:54.313237Z"
    },
    "trusted": true
   },
   "outputs": [],
   "source": [
    "X_train, X_test, y_train, y_test = train_test_split(X,y,test_size = 0.4, random_state = 123)"
   ]
  },
  {
   "cell_type": "markdown",
   "metadata": {},
   "source": [
    "# Train Classifier"
   ]
  },
  {
   "cell_type": "code",
   "execution_count": 80,
   "metadata": {
    "execution": {
     "iopub.execute_input": "2024-11-07T18:08:54.328867Z",
     "iopub.status.busy": "2024-11-07T18:08:54.328399Z",
     "iopub.status.idle": "2024-11-07T18:08:54.371106Z",
     "shell.execute_reply": "2024-11-07T18:08:54.370152Z",
     "shell.execute_reply.started": "2024-11-07T18:08:54.328805Z"
    },
    "trusted": true
   },
   "outputs": [],
   "source": [
    "xgb_start = time.time()\n",
    "xgb = XGBClassifier(n_estimators = 100, \n",
    "              colsample_bynode = 0.6, \n",
    "              gamma = 10, \n",
    "              random_state = 123)\n",
    "xgb.fit(X_train,y_train)\n",
    "\n",
    "xgb_stop = time.time()\n"
   ]
  },
  {
   "cell_type": "code",
   "execution_count": 81,
   "metadata": {
    "execution": {
     "iopub.execute_input": "2024-11-07T18:08:54.373101Z",
     "iopub.status.busy": "2024-11-07T18:08:54.372496Z",
     "iopub.status.idle": "2024-11-07T18:08:54.378479Z",
     "shell.execute_reply": "2024-11-07T18:08:54.377252Z",
     "shell.execute_reply.started": "2024-11-07T18:08:54.373063Z"
    },
    "trusted": true
   },
   "outputs": [],
   "source": [
    "def scoring(model = xgb, X_train = X_train, X_test = X_test, y_train = y_train, y_test = y_test):\n",
    "    print(\"Test Score:\", model.score(X_test,y_test))\n",
    "    print(\"Training Score\",model.score(X_train,y_train))"
   ]
  },
  {
   "cell_type": "code",
   "execution_count": 82,
   "metadata": {
    "execution": {
     "iopub.execute_input": "2024-11-07T18:08:54.380148Z",
     "iopub.status.busy": "2024-11-07T18:08:54.379721Z",
     "iopub.status.idle": "2024-11-07T18:08:54.407089Z",
     "shell.execute_reply": "2024-11-07T18:08:54.405829Z",
     "shell.execute_reply.started": "2024-11-07T18:08:54.380109Z"
    },
    "trusted": true
   },
   "outputs": [
    {
     "name": "stdout",
     "output_type": "stream",
     "text": [
      "Test Score: 0.8634146341463415\n",
      "Training Score 0.8975609756097561\n"
     ]
    }
   ],
   "source": [
    "scoring()"
   ]
  },
  {
   "cell_type": "code",
   "execution_count": 83,
   "metadata": {
    "execution": {
     "iopub.execute_input": "2024-11-07T18:08:54.409043Z",
     "iopub.status.busy": "2024-11-07T18:08:54.408526Z",
     "iopub.status.idle": "2024-11-07T18:08:54.651874Z",
     "shell.execute_reply": "2024-11-07T18:08:54.650765Z",
     "shell.execute_reply.started": "2024-11-07T18:08:54.408992Z"
    },
    "trusted": true
   },
   "outputs": [
    {
     "name": "stdout",
     "output_type": "stream",
     "text": [
      "Test Score: 0.8878048780487805\n",
      "Training Score 0.9170731707317074\n"
     ]
    }
   ],
   "source": [
    "from sklearn.ensemble import RandomForestClassifier\n",
    "rf_start = time.time()\n",
    "rf = RandomForestClassifier(n_estimators = 100, random_state = 42,\n",
    "                                 max_depth = 4)\n",
    "rf.fit(X_train,y_train)\n",
    "rf_stop = time.time()\n",
    "scoring(model = rf)"
   ]
  },
  {
   "cell_type": "code",
   "execution_count": 84,
   "metadata": {
    "execution": {
     "iopub.execute_input": "2024-11-07T18:08:54.654547Z",
     "iopub.status.busy": "2024-11-07T18:08:54.654172Z",
     "iopub.status.idle": "2024-11-07T18:08:54.661034Z",
     "shell.execute_reply": "2024-11-07T18:08:54.659878Z",
     "shell.execute_reply.started": "2024-11-07T18:08:54.654509Z"
    },
    "trusted": true
   },
   "outputs": [
    {
     "name": "stdout",
     "output_type": "stream",
     "text": [
      "XGB Train Time: 0.03485918045043945\n",
      "RF Train time:  0.21311521530151367\n",
      "6.113603720675741\n"
     ]
    }
   ],
   "source": [
    "xgb_train = xgb_stop-xgb_start\n",
    "rf_train = rf_stop - rf_start\n",
    "\n",
    "print(\"XGB Train Time:\",xgb_train)\n",
    "print(\"RF Train time: \", rf_train)\n",
    "print(rf_train/xgb_train)"
   ]
  },
  {
   "cell_type": "code",
   "execution_count": 85,
   "metadata": {
    "execution": {
     "iopub.execute_input": "2024-11-07T18:08:54.662614Z",
     "iopub.status.busy": "2024-11-07T18:08:54.662260Z",
     "iopub.status.idle": "2024-11-07T18:08:54.673680Z",
     "shell.execute_reply": "2024-11-07T18:08:54.672058Z",
     "shell.execute_reply.started": "2024-11-07T18:08:54.662577Z"
    },
    "trusted": true
   },
   "outputs": [
    {
     "ename": "SyntaxError",
     "evalue": "invalid syntax (977429066.py, line 1)",
     "output_type": "error",
     "traceback": [
      "\u001b[0;36m  Cell \u001b[0;32mIn[85], line 1\u001b[0;36m\u001b[0m\n\u001b[0;31m    XGB is 5 times faster, this can be attributed to its sequential tree building\u001b[0m\n\u001b[0m             ^\u001b[0m\n\u001b[0;31mSyntaxError\u001b[0m\u001b[0;31m:\u001b[0m invalid syntax\n"
     ]
    }
   ],
   "source": [
    "XGB is 5 times faster, this can be attributed to its sequential tree building \n",
    "2. Also the regularization with gamma leads to smaller trees aka weak learners \n",
    "3. Because a proportion of features by colsample_bynode is used at each split - feature sampling is done\n",
    "4. Parlell processing is done at node level\n",
    "5. Incase of Random Forest each tree is built independently and to full extent without pruning which lead to increased computational time during Training."
   ]
  },
  {
   "cell_type": "code",
   "execution_count": null,
   "metadata": {
    "trusted": true
   },
   "outputs": [],
   "source": []
  },
  {
   "cell_type": "code",
   "execution_count": null,
   "metadata": {
    "trusted": true
   },
   "outputs": [],
   "source": []
  },
  {
   "cell_type": "code",
   "execution_count": null,
   "metadata": {
    "trusted": true
   },
   "outputs": [],
   "source": []
  },
  {
   "cell_type": "code",
   "execution_count": null,
   "metadata": {
    "trusted": true
   },
   "outputs": [],
   "source": []
  },
  {
   "cell_type": "code",
   "execution_count": null,
   "metadata": {
    "trusted": true
   },
   "outputs": [],
   "source": []
  },
  {
   "cell_type": "code",
   "execution_count": null,
   "metadata": {
    "trusted": true
   },
   "outputs": [],
   "source": []
  },
  {
   "cell_type": "markdown",
   "metadata": {},
   "source": []
  },
  {
   "cell_type": "markdown",
   "metadata": {},
   "source": []
  }
 ],
 "metadata": {
  "kaggle": {
   "accelerator": "none",
   "dataSources": [
    {
     "datasetId": 216167,
     "sourceId": 477177,
     "sourceType": "datasetVersion"
    }
   ],
   "dockerImageVersionId": 30786,
   "isGpuEnabled": false,
   "isInternetEnabled": true,
   "language": "python",
   "sourceType": "notebook"
  },
  "kernelspec": {
   "display_name": "Python 3",
   "language": "python",
   "name": "python3"
  },
  "language_info": {
   "codemirror_mode": {
    "name": "ipython",
    "version": 3
   },
   "file_extension": ".py",
   "mimetype": "text/x-python",
   "name": "python",
   "nbconvert_exporter": "python",
   "pygments_lexer": "ipython3",
   "version": "3.10.14"
  }
 },
 "nbformat": 4,
 "nbformat_minor": 4
}
