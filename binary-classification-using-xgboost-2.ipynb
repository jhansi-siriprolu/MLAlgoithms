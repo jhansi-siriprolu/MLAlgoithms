{
 "cells": [
  {
   "cell_type": "code",
   "execution_count": 1,
   "metadata": {
    "_cell_guid": "b1076dfc-b9ad-4769-8c92-a6c4dae69d19",
    "_uuid": "8f2839f25d086af736a60e9eeb907d3b93b6e0e5",
    "execution": {
     "iopub.execute_input": "2024-11-12T05:40:50.409186Z",
     "iopub.status.busy": "2024-11-12T05:40:50.408713Z",
     "iopub.status.idle": "2024-11-12T05:40:51.598129Z",
     "shell.execute_reply": "2024-11-12T05:40:51.596858Z",
     "shell.execute_reply.started": "2024-11-12T05:40:50.409140Z"
    },
    "trusted": true
   },
   "outputs": [
    {
     "name": "stdout",
     "output_type": "stream",
     "text": [
      "/kaggle/input/heart-disease-dataset/heart.csv\n"
     ]
    }
   ],
   "source": [
    "# This Python 3 environment comes with many helpful analytics libraries installed\n",
    "# It is defined by the kaggle/python Docker image: https://github.com/kaggle/docker-python\n",
    "# For example, here's several helpful packages to load\n",
    "\n",
    "import numpy as np # linear algebra\n",
    "import pandas as pd # data processing, CSV file I/O (e.g. pd.read_csv)\n",
    "\n",
    "# Input data files are available in the read-only \"../input/\" directory\n",
    "# For example, running this (by clicking run or pressing Shift+Enter) will list all files under the input directory\n",
    "\n",
    "import os\n",
    "for dirname, _, filenames in os.walk('/kaggle/input'):\n",
    "    for filename in filenames:\n",
    "        print(os.path.join(dirname, filename))\n",
    "\n",
    "# You can write up to 20GB to the current directory (/kaggle/working/) that gets preserved as output when you create a version using \"Save & Run All\" \n",
    "# You can also write temporary files to /kaggle/temp/, but they won't be saved outside of the current session"
   ]
  },
  {
   "cell_type": "markdown",
   "metadata": {},
   "source": [
    "# <span style=\"color:lightblue;\">**Binary Classification with XGBoost**</span>\n",
    "\n",
    "---\n",
    "\n",
    "In this notebook, we will dive into the **XGBoost** algorithm, demonstrating why its time complexity often outperforms the **Random Forest Classifier** on certain datasets. **XGBoost**, short for *Extreme Gradient Boosting*, combines boosting for reducing misclassification with gradient-based optimization. We will apply **XGBoostClassifier** to a binary classification task to showcase its effectiveness."
   ]
  },
  {
   "cell_type": "markdown",
   "metadata": {},
   "source": [
    "**Table of contents**\n",
    "1. [Import Libraries](#Import-Libraries)\n",
    "2. Load Heart disease dataset(#Load-Dataset)\n",
    "3. Train XGBClassifer\n",
    "4. Evaluation of XGBClassifier\n",
    "5. Comparision with RandomForestClassifier"
   ]
  },
  {
   "cell_type": "markdown",
   "metadata": {},
   "source": [
    "# Import Libraries"
   ]
  },
  {
   "cell_type": "code",
   "execution_count": 2,
   "metadata": {
    "execution": {
     "iopub.execute_input": "2024-11-12T05:40:51.600599Z",
     "iopub.status.busy": "2024-11-12T05:40:51.600065Z",
     "iopub.status.idle": "2024-11-12T05:40:53.252570Z",
     "shell.execute_reply": "2024-11-12T05:40:53.251405Z",
     "shell.execute_reply.started": "2024-11-12T05:40:51.600557Z"
    },
    "trusted": true
   },
   "outputs": [],
   "source": [
    "\n",
    "import numpy as np\n",
    "import pandas as pd\n",
    "from xgboost import XGBClassifier\n",
    "from sklearn.model_selection import train_test_split\n",
    "from sklearn.metrics import accuracy_score, classification_report, confusion_matrix\n",
    "import time"
   ]
  },
  {
   "cell_type": "markdown",
   "metadata": {},
   "source": [
    "# Load Dataset"
   ]
  },
  {
   "cell_type": "code",
   "execution_count": 3,
   "metadata": {
    "execution": {
     "iopub.execute_input": "2024-11-12T05:40:53.254682Z",
     "iopub.status.busy": "2024-11-12T05:40:53.254113Z",
     "iopub.status.idle": "2024-11-12T05:40:53.385279Z",
     "shell.execute_reply": "2024-11-12T05:40:53.383970Z",
     "shell.execute_reply.started": "2024-11-12T05:40:53.254638Z"
    },
    "trusted": true
   },
   "outputs": [
    {
     "data": {
      "text/html": [
       "<div>\n",
       "<style scoped>\n",
       "    .dataframe tbody tr th:only-of-type {\n",
       "        vertical-align: middle;\n",
       "    }\n",
       "\n",
       "    .dataframe tbody tr th {\n",
       "        vertical-align: top;\n",
       "    }\n",
       "\n",
       "    .dataframe thead th {\n",
       "        text-align: right;\n",
       "    }\n",
       "</style>\n",
       "<table border=\"1\" class=\"dataframe\">\n",
       "  <thead>\n",
       "    <tr style=\"text-align: right;\">\n",
       "      <th></th>\n",
       "      <th>age</th>\n",
       "      <th>sex</th>\n",
       "      <th>cp</th>\n",
       "      <th>trestbps</th>\n",
       "      <th>chol</th>\n",
       "      <th>fbs</th>\n",
       "      <th>restecg</th>\n",
       "      <th>thalach</th>\n",
       "      <th>exang</th>\n",
       "      <th>oldpeak</th>\n",
       "      <th>slope</th>\n",
       "      <th>ca</th>\n",
       "      <th>thal</th>\n",
       "      <th>target</th>\n",
       "    </tr>\n",
       "  </thead>\n",
       "  <tbody>\n",
       "    <tr>\n",
       "      <th>0</th>\n",
       "      <td>52</td>\n",
       "      <td>1</td>\n",
       "      <td>0</td>\n",
       "      <td>125</td>\n",
       "      <td>212</td>\n",
       "      <td>0</td>\n",
       "      <td>1</td>\n",
       "      <td>168</td>\n",
       "      <td>0</td>\n",
       "      <td>1.0</td>\n",
       "      <td>2</td>\n",
       "      <td>2</td>\n",
       "      <td>3</td>\n",
       "      <td>0</td>\n",
       "    </tr>\n",
       "    <tr>\n",
       "      <th>1</th>\n",
       "      <td>53</td>\n",
       "      <td>1</td>\n",
       "      <td>0</td>\n",
       "      <td>140</td>\n",
       "      <td>203</td>\n",
       "      <td>1</td>\n",
       "      <td>0</td>\n",
       "      <td>155</td>\n",
       "      <td>1</td>\n",
       "      <td>3.1</td>\n",
       "      <td>0</td>\n",
       "      <td>0</td>\n",
       "      <td>3</td>\n",
       "      <td>0</td>\n",
       "    </tr>\n",
       "    <tr>\n",
       "      <th>2</th>\n",
       "      <td>70</td>\n",
       "      <td>1</td>\n",
       "      <td>0</td>\n",
       "      <td>145</td>\n",
       "      <td>174</td>\n",
       "      <td>0</td>\n",
       "      <td>1</td>\n",
       "      <td>125</td>\n",
       "      <td>1</td>\n",
       "      <td>2.6</td>\n",
       "      <td>0</td>\n",
       "      <td>0</td>\n",
       "      <td>3</td>\n",
       "      <td>0</td>\n",
       "    </tr>\n",
       "    <tr>\n",
       "      <th>3</th>\n",
       "      <td>61</td>\n",
       "      <td>1</td>\n",
       "      <td>0</td>\n",
       "      <td>148</td>\n",
       "      <td>203</td>\n",
       "      <td>0</td>\n",
       "      <td>1</td>\n",
       "      <td>161</td>\n",
       "      <td>0</td>\n",
       "      <td>0.0</td>\n",
       "      <td>2</td>\n",
       "      <td>1</td>\n",
       "      <td>3</td>\n",
       "      <td>0</td>\n",
       "    </tr>\n",
       "    <tr>\n",
       "      <th>4</th>\n",
       "      <td>62</td>\n",
       "      <td>0</td>\n",
       "      <td>0</td>\n",
       "      <td>138</td>\n",
       "      <td>294</td>\n",
       "      <td>1</td>\n",
       "      <td>1</td>\n",
       "      <td>106</td>\n",
       "      <td>0</td>\n",
       "      <td>1.9</td>\n",
       "      <td>1</td>\n",
       "      <td>3</td>\n",
       "      <td>2</td>\n",
       "      <td>0</td>\n",
       "    </tr>\n",
       "  </tbody>\n",
       "</table>\n",
       "</div>"
      ],
      "text/plain": [
       "   age  sex  cp  trestbps  chol  fbs  restecg  thalach  exang  oldpeak  slope  \\\n",
       "0   52    1   0       125   212    0        1      168      0      1.0      2   \n",
       "1   53    1   0       140   203    1        0      155      1      3.1      0   \n",
       "2   70    1   0       145   174    0        1      125      1      2.6      0   \n",
       "3   61    1   0       148   203    0        1      161      0      0.0      2   \n",
       "4   62    0   0       138   294    1        1      106      0      1.9      1   \n",
       "\n",
       "   ca  thal  target  \n",
       "0   2     3       0  \n",
       "1   0     3       0  \n",
       "2   0     3       0  \n",
       "3   1     3       0  \n",
       "4   3     2       0  "
      ]
     },
     "execution_count": 3,
     "metadata": {},
     "output_type": "execute_result"
    }
   ],
   "source": [
    "df = pd.read_csv(\"/kaggle/input/heart-disease-dataset/heart.csv\")\n",
    "df.head()"
   ]
  },
  {
   "cell_type": "code",
   "execution_count": 4,
   "metadata": {
    "execution": {
     "iopub.execute_input": "2024-11-12T05:40:53.388424Z",
     "iopub.status.busy": "2024-11-12T05:40:53.387987Z",
     "iopub.status.idle": "2024-11-12T05:40:53.399800Z",
     "shell.execute_reply": "2024-11-12T05:40:53.398107Z",
     "shell.execute_reply.started": "2024-11-12T05:40:53.388375Z"
    },
    "trusted": true
   },
   "outputs": [],
   "source": [
    "X = df.drop(\"target\", axis = 1)\n",
    "y = df[\"target\"]"
   ]
  },
  {
   "cell_type": "markdown",
   "metadata": {
    "execution": {
     "iopub.execute_input": "2024-11-07T17:04:57.676818Z",
     "iopub.status.busy": "2024-11-07T17:04:57.676380Z",
     "iopub.status.idle": "2024-11-07T17:04:57.692592Z",
     "shell.execute_reply": "2024-11-07T17:04:57.691346Z",
     "shell.execute_reply.started": "2024-11-07T17:04:57.676780Z"
    }
   },
   "source": [
    "df[\"target\"].value_counts()"
   ]
  },
  {
   "cell_type": "code",
   "execution_count": 5,
   "metadata": {
    "execution": {
     "iopub.execute_input": "2024-11-12T05:40:53.401547Z",
     "iopub.status.busy": "2024-11-12T05:40:53.401147Z",
     "iopub.status.idle": "2024-11-12T05:40:53.416271Z",
     "shell.execute_reply": "2024-11-12T05:40:53.415042Z",
     "shell.execute_reply.started": "2024-11-12T05:40:53.401505Z"
    },
    "trusted": true
   },
   "outputs": [],
   "source": [
    "X_train, X_test, y_train, y_test = train_test_split(X,y,test_size = 0.4, random_state = 123)"
   ]
  },
  {
   "cell_type": "markdown",
   "metadata": {},
   "source": [
    "# Train Classifier"
   ]
  },
  {
   "cell_type": "code",
   "execution_count": 6,
   "metadata": {
    "execution": {
     "iopub.execute_input": "2024-11-12T05:40:53.418252Z",
     "iopub.status.busy": "2024-11-12T05:40:53.417782Z",
     "iopub.status.idle": "2024-11-12T05:40:53.517671Z",
     "shell.execute_reply": "2024-11-12T05:40:53.516565Z",
     "shell.execute_reply.started": "2024-11-12T05:40:53.418196Z"
    },
    "trusted": true
   },
   "outputs": [],
   "source": [
    "xgb_start = time.time()\n",
    "xgb = XGBClassifier(n_estimators = 100, \n",
    "              colsample_bynode = 0.6, \n",
    "              gamma = 10, \n",
    "              random_state = 123)\n",
    "xgb.fit(X_train,y_train)\n",
    "\n",
    "xgb_stop = time.time()\n"
   ]
  },
  {
   "cell_type": "code",
   "execution_count": 7,
   "metadata": {
    "execution": {
     "iopub.execute_input": "2024-11-12T05:40:53.519960Z",
     "iopub.status.busy": "2024-11-12T05:40:53.519247Z",
     "iopub.status.idle": "2024-11-12T05:40:53.526086Z",
     "shell.execute_reply": "2024-11-12T05:40:53.525059Z",
     "shell.execute_reply.started": "2024-11-12T05:40:53.519912Z"
    },
    "trusted": true
   },
   "outputs": [],
   "source": [
    "def scoring(model = xgb, X_train = X_train, X_test = X_test, y_train = y_train, y_test = y_test):\n",
    "    print(\"Test Score:\", model.score(X_test,y_test))\n",
    "    print(\"Training Score\",model.score(X_train,y_train))"
   ]
  },
  {
   "cell_type": "code",
   "execution_count": 8,
   "metadata": {
    "execution": {
     "iopub.execute_input": "2024-11-12T05:40:53.532201Z",
     "iopub.status.busy": "2024-11-12T05:40:53.527445Z",
     "iopub.status.idle": "2024-11-12T05:40:53.553685Z",
     "shell.execute_reply": "2024-11-12T05:40:53.552449Z",
     "shell.execute_reply.started": "2024-11-12T05:40:53.532131Z"
    },
    "trusted": true
   },
   "outputs": [
    {
     "name": "stdout",
     "output_type": "stream",
     "text": [
      "Test Score: 0.8634146341463415\n",
      "Training Score 0.8975609756097561\n"
     ]
    }
   ],
   "source": [
    "scoring()"
   ]
  },
  {
   "cell_type": "code",
   "execution_count": 9,
   "metadata": {
    "execution": {
     "iopub.execute_input": "2024-11-12T05:40:53.556552Z",
     "iopub.status.busy": "2024-11-12T05:40:53.555163Z",
     "iopub.status.idle": "2024-11-12T05:40:54.086269Z",
     "shell.execute_reply": "2024-11-12T05:40:54.084309Z",
     "shell.execute_reply.started": "2024-11-12T05:40:53.556475Z"
    },
    "trusted": true
   },
   "outputs": [
    {
     "name": "stdout",
     "output_type": "stream",
     "text": [
      "Test Score: 0.8878048780487805\n",
      "Training Score 0.9170731707317074\n"
     ]
    }
   ],
   "source": [
    "from sklearn.ensemble import RandomForestClassifier\n",
    "rf_start = time.time()\n",
    "rf = RandomForestClassifier(n_estimators = 100, random_state = 42,\n",
    "                                 max_depth = 4)\n",
    "rf.fit(X_train,y_train)\n",
    "rf_stop = time.time()\n",
    "scoring(model = rf)"
   ]
  },
  {
   "cell_type": "code",
   "execution_count": 10,
   "metadata": {
    "execution": {
     "iopub.execute_input": "2024-11-12T05:40:54.092281Z",
     "iopub.status.busy": "2024-11-12T05:40:54.091854Z",
     "iopub.status.idle": "2024-11-12T05:40:54.099351Z",
     "shell.execute_reply": "2024-11-12T05:40:54.097889Z",
     "shell.execute_reply.started": "2024-11-12T05:40:54.092237Z"
    },
    "trusted": true
   },
   "outputs": [
    {
     "name": "stdout",
     "output_type": "stream",
     "text": [
      "XGB Train Time: 0.09104132652282715\n",
      "RF Train time:  0.24979758262634277\n",
      "2.7437823257519214\n"
     ]
    }
   ],
   "source": [
    "xgb_train = xgb_stop-xgb_start\n",
    "rf_train = rf_stop - rf_start\n",
    "\n",
    "print(\"XGB Train Time:\",xgb_train)\n",
    "print(\"RF Train time: \", rf_train)\n",
    "print(rf_train/xgb_train)"
   ]
  },
  {
   "cell_type": "markdown",
   "metadata": {
    "execution": {
     "iopub.execute_input": "2024-11-07T18:08:54.662614Z",
     "iopub.status.busy": "2024-11-07T18:08:54.662260Z",
     "iopub.status.idle": "2024-11-07T18:08:54.673680Z",
     "shell.execute_reply": "2024-11-07T18:08:54.672058Z",
     "shell.execute_reply.started": "2024-11-07T18:08:54.662577Z"
    }
   },
   "source": [
    "XGB is 5 times faster than Random Forests\n",
    "1. This can be attributed to its sequential tree building \n",
    "2. Also the regularization with gamma leads to smaller trees aka weak learners \n",
    "3. Because a proportion of features by colsample_bynode is used at each split - feature sampling is done\n",
    "4. Parlell processing is done at node level\n",
    "5. Incase of Random Forest each tree is built independently and to full extent without pruning which lead to increased computational time during Training."
   ]
  },
  {
   "cell_type": "code",
   "execution_count": null,
   "metadata": {
    "trusted": true
   },
   "outputs": [],
   "source": []
  },
  {
   "cell_type": "code",
   "execution_count": null,
   "metadata": {
    "trusted": true
   },
   "outputs": [],
   "source": []
  },
  {
   "cell_type": "code",
   "execution_count": null,
   "metadata": {
    "trusted": true
   },
   "outputs": [],
   "source": []
  },
  {
   "cell_type": "code",
   "execution_count": null,
   "metadata": {
    "trusted": true
   },
   "outputs": [],
   "source": []
  },
  {
   "cell_type": "code",
   "execution_count": null,
   "metadata": {
    "trusted": true
   },
   "outputs": [],
   "source": []
  },
  {
   "cell_type": "code",
   "execution_count": null,
   "metadata": {
    "trusted": true
   },
   "outputs": [],
   "source": []
  },
  {
   "cell_type": "markdown",
   "metadata": {},
   "source": []
  },
  {
   "cell_type": "markdown",
   "metadata": {},
   "source": []
  }
 ],
 "metadata": {
  "kaggle": {
   "accelerator": "none",
   "dataSources": [
    {
     "datasetId": 216167,
     "sourceId": 477177,
     "sourceType": "datasetVersion"
    }
   ],
   "dockerImageVersionId": 30786,
   "isGpuEnabled": false,
   "isInternetEnabled": true,
   "language": "python",
   "sourceType": "notebook"
  },
  "kernelspec": {
   "display_name": "Python 3",
   "language": "python",
   "name": "python3"
  },
  "language_info": {
   "codemirror_mode": {
    "name": "ipython",
    "version": 3
   },
   "file_extension": ".py",
   "mimetype": "text/x-python",
   "name": "python",
   "nbconvert_exporter": "python",
   "pygments_lexer": "ipython3",
   "version": "3.10.14"
  }
 },
 "nbformat": 4,
 "nbformat_minor": 4
}
